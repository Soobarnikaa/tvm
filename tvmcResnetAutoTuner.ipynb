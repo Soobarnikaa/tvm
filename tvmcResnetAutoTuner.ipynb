{
  "nbformat": 4,
  "nbformat_minor": 0,
  "metadata": {
    "colab": {
      "provenance": []
    },
    "kernelspec": {
      "name": "python3",
      "display_name": "Python 3"
    },
    "language_info": {
      "name": "python"
    }
  },
  "cells": [
    {
      "cell_type": "code",
      "execution_count": 1,
      "metadata": {
        "colab": {
          "base_uri": "https://localhost:8080/"
        },
        "id": "Q3XOCk39FCKs",
        "outputId": "6e4abc05-bfc2-4282-a86e-48bc03fcb545"
      },
      "outputs": [
        {
          "output_type": "stream",
          "name": "stdout",
          "text": [
            "Collecting apache-tvm\n",
            "  Downloading apache_tvm-0.14.dev273-cp310-cp310-manylinux_2_17_x86_64.manylinux2014_x86_64.whl.metadata (8.3 kB)\n",
            "Requirement already satisfied: attrs in /usr/local/lib/python3.10/dist-packages (from apache-tvm) (24.2.0)\n",
            "Requirement already satisfied: cloudpickle in /usr/local/lib/python3.10/dist-packages (from apache-tvm) (2.2.1)\n",
            "Requirement already satisfied: decorator in /usr/local/lib/python3.10/dist-packages (from apache-tvm) (4.4.2)\n",
            "Requirement already satisfied: ml-dtypes in /usr/local/lib/python3.10/dist-packages (from apache-tvm) (0.4.0)\n",
            "Requirement already satisfied: numpy in /usr/local/lib/python3.10/dist-packages (from apache-tvm) (1.26.4)\n",
            "Requirement already satisfied: psutil in /usr/local/lib/python3.10/dist-packages (from apache-tvm) (5.9.5)\n",
            "Requirement already satisfied: scipy in /usr/local/lib/python3.10/dist-packages (from apache-tvm) (1.13.1)\n",
            "Requirement already satisfied: tornado in /usr/local/lib/python3.10/dist-packages (from apache-tvm) (6.3.3)\n",
            "Requirement already satisfied: typing-extensions in /usr/local/lib/python3.10/dist-packages (from apache-tvm) (4.12.2)\n",
            "Downloading apache_tvm-0.14.dev273-cp310-cp310-manylinux_2_17_x86_64.manylinux2014_x86_64.whl (69.2 MB)\n",
            "\u001b[2K   \u001b[90m━━━━━━━━━━━━━━━━━━━━━━━━━━━━━━━━━━━━━━━━\u001b[0m \u001b[32m69.2/69.2 MB\u001b[0m \u001b[31m7.6 MB/s\u001b[0m eta \u001b[36m0:00:00\u001b[0m\n",
            "\u001b[?25hInstalling collected packages: apache-tvm\n",
            "Successfully installed apache-tvm-0.14.dev273\n"
          ]
        },
        {
          "output_type": "execute_result",
          "data": {
            "text/plain": []
          },
          "metadata": {},
          "execution_count": 1
        }
      ],
      "source": [
        "%%shell\n",
        "pip install apache-tvm --pre"
      ]
    },
    {
      "cell_type": "code",
      "source": [
        "!tvmc --help"
      ],
      "metadata": {
        "colab": {
          "base_uri": "https://localhost:8080/"
        },
        "id": "bDDeE1aXFl2U",
        "outputId": "332dd5d4-7472-486e-cb03-2d503e719a7d"
      },
      "execution_count": 2,
      "outputs": [
        {
          "output_type": "stream",
          "name": "stdout",
          "text": [
            "usage: tvmc [--config CONFIG] [-v] [--version] [-h] {micro,run,tune,compile} ...\n",
            "\n",
            "TVM compiler driver\n",
            "\n",
            "options:\n",
            "  --config CONFIG       configuration json file\n",
            "  -v, --verbose         increase verbosity\n",
            "  --version             print the version and exit\n",
            "  -h, --help            show this help message and exit.\n",
            "\n",
            "commands:\n",
            "  {micro,run,tune,compile}\n",
            "    micro               select micro context.\n",
            "    run                 run a compiled module\n",
            "    tune                auto-tune a model\n",
            "    compile             compile a model.\n",
            "\n",
            "TVMC - TVM driver command-line interface\n"
          ]
        }
      ]
    },
    {
      "cell_type": "code",
      "source": [
        "!pip3 install onnx onnxoptimizer"
      ],
      "metadata": {
        "colab": {
          "base_uri": "https://localhost:8080/"
        },
        "id": "uxfF2o-_HMQ7",
        "outputId": "7dbfadde-bf34-46ec-8a6c-28caf6f8806d"
      },
      "execution_count": 3,
      "outputs": [
        {
          "output_type": "stream",
          "name": "stdout",
          "text": [
            "Collecting onnx\n",
            "  Downloading onnx-1.16.2-cp310-cp310-manylinux_2_17_x86_64.manylinux2014_x86_64.whl.metadata (16 kB)\n",
            "Collecting onnxoptimizer\n",
            "  Downloading onnxoptimizer-0.3.13-cp310-cp310-manylinux_2_17_x86_64.manylinux2014_x86_64.whl.metadata (3.2 kB)\n",
            "Requirement already satisfied: numpy>=1.20 in /usr/local/lib/python3.10/dist-packages (from onnx) (1.26.4)\n",
            "Requirement already satisfied: protobuf>=3.20.2 in /usr/local/lib/python3.10/dist-packages (from onnx) (3.20.3)\n",
            "Downloading onnx-1.16.2-cp310-cp310-manylinux_2_17_x86_64.manylinux2014_x86_64.whl (15.9 MB)\n",
            "\u001b[2K   \u001b[90m━━━━━━━━━━━━━━━━━━━━━━━━━━━━━━━━━━━━━━━━\u001b[0m \u001b[32m15.9/15.9 MB\u001b[0m \u001b[31m51.7 MB/s\u001b[0m eta \u001b[36m0:00:00\u001b[0m\n",
            "\u001b[?25hDownloading onnxoptimizer-0.3.13-cp310-cp310-manylinux_2_17_x86_64.manylinux2014_x86_64.whl (678 kB)\n",
            "\u001b[2K   \u001b[90m━━━━━━━━━━━━━━━━━━━━━━━━━━━━━━━━━━━━━━━━\u001b[0m \u001b[32m678.1/678.1 kB\u001b[0m \u001b[31m36.6 MB/s\u001b[0m eta \u001b[36m0:00:00\u001b[0m\n",
            "\u001b[?25hInstalling collected packages: onnx, onnxoptimizer\n",
            "Successfully installed onnx-1.16.2 onnxoptimizer-0.3.13\n"
          ]
        }
      ]
    },
    {
      "cell_type": "code",
      "source": [
        "!wget https://github.com/onnx/models/raw/b9a54e89508f101a1611cd64f4ef56b9cb62c7cf/vision/classification/resnet/model/resnet50-v2-7.onnx"
      ],
      "metadata": {
        "colab": {
          "base_uri": "https://localhost:8080/"
        },
        "id": "juPLlqiCG5h9",
        "outputId": "d4325b5d-1d27-4d4f-d8cc-8ef4b4241965"
      },
      "execution_count": 4,
      "outputs": [
        {
          "output_type": "stream",
          "name": "stdout",
          "text": [
            "--2024-09-06 04:02:41--  https://github.com/onnx/models/raw/b9a54e89508f101a1611cd64f4ef56b9cb62c7cf/vision/classification/resnet/model/resnet50-v2-7.onnx\n",
            "Resolving github.com (github.com)... 140.82.113.3\n",
            "Connecting to github.com (github.com)|140.82.113.3|:443... connected.\n",
            "HTTP request sent, awaiting response... 302 Found\n",
            "Location: https://media.githubusercontent.com/media/onnx/models/b9a54e89508f101a1611cd64f4ef56b9cb62c7cf/vision/classification/resnet/model/resnet50-v2-7.onnx [following]\n",
            "--2024-09-06 04:02:41--  https://media.githubusercontent.com/media/onnx/models/b9a54e89508f101a1611cd64f4ef56b9cb62c7cf/vision/classification/resnet/model/resnet50-v2-7.onnx\n",
            "Resolving media.githubusercontent.com (media.githubusercontent.com)... 185.199.108.133, 185.199.109.133, 185.199.110.133, ...\n",
            "Connecting to media.githubusercontent.com (media.githubusercontent.com)|185.199.108.133|:443... connected.\n",
            "HTTP request sent, awaiting response... 200 OK\n",
            "Length: 102442450 (98M) [application/octet-stream]\n",
            "Saving to: ‘resnet50-v2-7.onnx’\n",
            "\n",
            "resnet50-v2-7.onnx  100%[===================>]  97.70M   181MB/s    in 0.5s    \n",
            "\n",
            "2024-09-06 04:02:43 (181 MB/s) - ‘resnet50-v2-7.onnx’ saved [102442450/102442450]\n",
            "\n"
          ]
        }
      ]
    },
    {
      "cell_type": "code",
      "source": [
        "import subprocess\n",
        "\n",
        "subprocess.run([\n",
        "    \"tvmc\", \"compile\",\n",
        "    \"--target\", \"llvm\",\n",
        "    \"--input-shapes\", \"data:[1,3,224,224]\",\n",
        "    \"--output\", \"resnet50-v2-7-tvm.tar\",\n",
        "    \"resnet50-v2-7.onnx\"\n",
        "])"
      ],
      "metadata": {
        "colab": {
          "base_uri": "https://localhost:8080/"
        },
        "id": "BlL8WooeJhAF",
        "outputId": "fa86dacc-4b80-4eee-85ac-daf852817adf"
      },
      "execution_count": 5,
      "outputs": [
        {
          "output_type": "execute_result",
          "data": {
            "text/plain": [
              "CompletedProcess(args=['tvmc', 'compile', '--target', 'llvm', '--input-shapes', 'data:[1,3,224,224]', '--output', 'resnet50-v2-7-tvm.tar', 'resnet50-v2-7.onnx'], returncode=0)"
            ]
          },
          "metadata": {},
          "execution_count": 5
        }
      ]
    },
    {
      "cell_type": "code",
      "source": [
        "!mkdir model\n",
        "!tar -xvf resnet50-v2-7-tvm.tar -C model\n",
        "!ls model"
      ],
      "metadata": {
        "colab": {
          "base_uri": "https://localhost:8080/"
        },
        "id": "GnUmN5JZo1ds",
        "outputId": "64e4a883-8e2d-431b-f75d-64ee0fb1890d"
      },
      "execution_count": 6,
      "outputs": [
        {
          "output_type": "stream",
          "name": "stdout",
          "text": [
            "mod.so\n",
            "mod.json\n",
            "mod.params\n",
            "mod.json  mod.params  mod.so\n"
          ]
        }
      ]
    },
    {
      "cell_type": "code",
      "source": [
        "from tvm.contrib.download import download_testdata\n",
        "from PIL import Image\n",
        "import numpy as np\n",
        "\n",
        "img_url = \"https://s3.amazonaws.com/model-server/inputs/kitten.jpg\"\n",
        "img_path = download_testdata(img_url, \"imagenet_cat.png\", module=\"data\")\n",
        "\n",
        "# Resize it to 224x224\n",
        "resized_image = Image.open(img_path).resize((224, 224))\n",
        "img_data = np.asarray(resized_image).astype(\"float32\")\n",
        "\n",
        "# ONNX expects NCHW input, so convert the array\n",
        "img_data = np.transpose(img_data, (2, 0, 1))\n",
        "\n",
        "# Normalize according to ImageNet\n",
        "imagenet_mean = np.array([0.485, 0.456, 0.406])\n",
        "imagenet_stddev = np.array([0.229, 0.224, 0.225])\n",
        "norm_img_data = np.zeros(img_data.shape).astype(\"float32\")\n",
        "for i in range(img_data.shape[0]):\n",
        "      norm_img_data[i, :, :] = (img_data[i, :, :] / 255 - imagenet_mean[i]) / imagenet_stddev[i]\n",
        "\n",
        "# Add batch dimension\n",
        "img_data = np.expand_dims(norm_img_data, axis=0)\n",
        "\n",
        "# Save to .npz (outputs imagenet_cat.npz)\n",
        "np.savez(\"imagenet_cat\", data=img_data)"
      ],
      "metadata": {
        "id": "ADoFbi7UXwIW"
      },
      "execution_count": 7,
      "outputs": []
    },
    {
      "cell_type": "code",
      "source": [
        "!tvmc run \\\n",
        "--inputs imagenet_cat.npz \\\n",
        "--output predictions.npz \\\n",
        "resnet50-v2-7-tvm.tar"
      ],
      "metadata": {
        "colab": {
          "base_uri": "https://localhost:8080/"
        },
        "id": "C7DcvEI_YTvo",
        "outputId": "2c71631c-a034-48cc-e330-12533d18b447"
      },
      "execution_count": 8,
      "outputs": [
        {
          "output_type": "stream",
          "name": "stdout",
          "text": [
            "2024-09-06 04:05:39.568 INFO load_module /tmp/tmp7dg1581a/mod.so\n"
          ]
        }
      ]
    },
    {
      "cell_type": "code",
      "source": [
        "import os.path\n",
        "import numpy as np\n",
        "\n",
        "from scipy.special import softmax\n",
        "\n",
        "from tvm.contrib.download import download_testdata\n",
        "\n",
        "# Download a list of labels\n",
        "labels_url = \"https://s3.amazonaws.com/onnx-model-zoo/synset.txt\"\n",
        "labels_path = download_testdata(labels_url, \"synset.txt\", module=\"data\")\n",
        "\n",
        "with open(labels_path, \"r\") as f:\n",
        "    labels = [l.rstrip() for l in f]\n",
        "\n",
        "output_file = \"predictions.npz\"\n",
        "\n",
        "# Open the output and read the output tensor\n",
        "if os.path.exists(output_file):\n",
        "    with np.load(output_file) as data:\n",
        "        scores = softmax(data[\"output_0\"])\n",
        "        scores = np.squeeze(scores)\n",
        "        ranks = np.argsort(scores)[::-1]\n",
        "\n",
        "        for rank in ranks[0:5]:\n",
        "            print(\"class='%s' with probability=%f\" % (labels[rank], scores[rank]))"
      ],
      "metadata": {
        "colab": {
          "base_uri": "https://localhost:8080/"
        },
        "id": "EirnhH1EdTfo",
        "outputId": "a9ab7901-2f28-4cf1-b468-4e1201179415"
      },
      "execution_count": 9,
      "outputs": [
        {
          "output_type": "stream",
          "name": "stdout",
          "text": [
            "class='n02123045 tabby, tabby cat' with probability=0.621104\n",
            "class='n02123159 tiger cat' with probability=0.356378\n",
            "class='n02124075 Egyptian cat' with probability=0.019712\n",
            "class='n02129604 tiger, Panthera tigris' with probability=0.001215\n",
            "class='n04040759 radiator' with probability=0.000262\n"
          ]
        }
      ]
    },
    {
      "cell_type": "code",
      "source": [],
      "metadata": {
        "id": "V2phchX6_vZI"
      },
      "execution_count": null,
      "outputs": []
    },
    {
      "cell_type": "code",
      "source": [
        "!pip install xgboost"
      ],
      "metadata": {
        "colab": {
          "base_uri": "https://localhost:8080/"
        },
        "id": "0oACdMtbqIqK",
        "outputId": "a8827446-9798-42c2-974e-b779bd4ee465"
      },
      "execution_count": 10,
      "outputs": [
        {
          "output_type": "stream",
          "name": "stdout",
          "text": [
            "Requirement already satisfied: xgboost in /usr/local/lib/python3.10/dist-packages (2.1.1)\n",
            "Requirement already satisfied: numpy in /usr/local/lib/python3.10/dist-packages (from xgboost) (1.26.4)\n",
            "Requirement already satisfied: nvidia-nccl-cu12 in /usr/local/lib/python3.10/dist-packages (from xgboost) (2.22.3)\n",
            "Requirement already satisfied: scipy in /usr/local/lib/python3.10/dist-packages (from xgboost) (1.13.1)\n"
          ]
        }
      ]
    },
    {
      "cell_type": "code",
      "source": [
        "!tvmc tune \\\n",
        "--target \"llvm\" \\\n",
        "--output resnet50-v2-7-autotuner_records.json \\\n",
        "resnet50-v2-7.onnx"
      ],
      "metadata": {
        "colab": {
          "base_uri": "https://localhost:8080/"
        },
        "id": "PNQZriEVqMIq",
        "outputId": "e1038026-46f8-4e77-aad1-80194da47bc1"
      },
      "execution_count": 11,
      "outputs": [
        {
          "output_type": "stream",
          "name": "stdout",
          "text": [
            "[Task  1/25]  Current/Best:   13.50/  16.55 GFLOPS | Progress: (40/40) | 69.49 s Done.\n",
            "[Task  2/25]  Current/Best:    3.10/  18.64 GFLOPS | Progress: (40/40) | 40.50 s Done.\n",
            "[Task  3/25]  Current/Best:    8.75/  18.17 GFLOPS | Progress: (40/40) | 50.94 s Done.\n",
            "[Task  4/25]  Current/Best:   13.72/  15.42 GFLOPS | Progress: (40/40) | 48.28 s Done.\n",
            "[Task  5/25]  Current/Best:   18.65/  18.65 GFLOPS | Progress: (40/40) | 47.76 s Done.\n",
            "[Task  6/25]  Current/Best:    5.08/  15.41 GFLOPS | Progress: (40/40) | 60.52 s Done.\n",
            "[Task  7/25]  Current/Best:   17.71/  17.93 GFLOPS | Progress: (40/40) | 55.16 s Done.\n",
            "[Task 10/25]  Current/Best:   10.18/  18.41 GFLOPS | Progress: (40/40) | 50.66 s Done.\n",
            "[Task 11/25]  Current/Best:    5.00/  19.99 GFLOPS | Progress: (40/40) | 53.75 s Done.\n",
            "[Task 13/25]  Current/Best:    7.90/  18.86 GFLOPS | Progress: (40/40) | 61.96 s Done.\n",
            "[Task 14/25]  Current/Best:   11.64/  13.08 GFLOPS | Progress: (22/40) | 54.27 s Done.\n",
            " Done.\n",
            "[Task 16/25]  Current/Best:    4.30/  17.06 GFLOPS | Progress: (40/40) | 38.93 s Done.\n",
            "[Task 17/25]  Current/Best:    7.56/  20.33 GFLOPS | Progress: (40/40) | 49.27 s Done.\n",
            "[Task 19/25]  Current/Best:   15.00/  19.78 GFLOPS | Progress: (30/40) | 67.40 s Done.\n",
            " Done.\n",
            "[Task 19/25]  Current/Best:   10.48/  19.78 GFLOPS | Progress: (40/40) | 83.77 s Done.\n",
            "[Task 22/25]  Current/Best:    0.00/   0.00 GFLOPS | Progress: (0/40) | 0.00 s Done.\n",
            " Done.\n",
            "[Task 22/25]  Current/Best:    3.27/  17.14 GFLOPS | Progress: (40/40) | 42.66 s Done.\n",
            "[Task 24/25]  Current/Best:    3.07/   7.18 GFLOPS | Progress: (26/40) | 113.87 s Done.\n",
            "[Task 25/25]  Current/Best:    2.38/   7.69 GFLOPS | Progress: (40/40) | 95.65 s Done.\n",
            " Done.\n",
            " Done.\n",
            " Done.\n"
          ]
        }
      ]
    },
    {
      "cell_type": "code",
      "source": [
        "!tvmc tune \\\n",
        "--target \"llvm -mcpu=broadwell\" \\\n",
        "--output resnet50-v2-7-autotuner_records.json \\\n",
        "resnet50-v2-7.onnx"
      ],
      "metadata": {
        "colab": {
          "base_uri": "https://localhost:8080/"
        },
        "id": "4Afko1sLg1ZD",
        "outputId": "2c99889c-1a12-469e-b217-ccf4a98b78b9"
      },
      "execution_count": 12,
      "outputs": [
        {
          "output_type": "stream",
          "name": "stdout",
          "text": [
            "[Task  1/25]  Current/Best:   29.53/  38.21 GFLOPS | Progress: (40/40) | 64.68 s Done.\n",
            "[Task  2/25]  Current/Best:    7.25/  57.57 GFLOPS | Progress: (40/40) | 40.50 s Done.\n",
            "[Task  3/25]  Current/Best:   22.70/  65.28 GFLOPS | Progress: (40/40) | 42.98 s Done.\n",
            "[Task  4/25]  Current/Best:   16.97/  24.28 GFLOPS | Progress: (40/40) | 56.73 s Done.\n",
            "[Task  5/25]  Current/Best:   10.87/  35.04 GFLOPS | Progress: (40/40) | 44.97 s Done.\n",
            "[Task  6/25]  Current/Best:    5.48/  31.67 GFLOPS | Progress: (40/40) | 54.05 s Done.\n",
            "[Task  7/25]  Current/Best:   10.12/  38.01 GFLOPS | Progress: (40/40) | 41.99 s Done.\n",
            "[Task  8/25]  Current/Best:   14.54/  33.12 GFLOPS | Progress: (40/40) | 62.74 s Done.\n",
            "[Task  9/25]  Current/Best:   12.06/  38.02 GFLOPS | Progress: (40/40) | 63.18 s Done.\n",
            "[Task 10/25]  Current/Best:   24.41/  59.50 GFLOPS | Progress: (40/40) | 33.13 s Done.\n",
            "[Task 11/25]  Current/Best:   34.65/  55.63 GFLOPS | Progress: (40/40) | 44.56 s Done.\n",
            "[Task 12/25]  Current/Best:   17.37/  30.50 GFLOPS | Progress: (40/40) | 50.89 s Done.\n",
            "[Task 13/25]  Current/Best:    2.68/  38.71 GFLOPS | Progress: (40/40) | 47.82 s Done.\n",
            "[Task 14/25]  Current/Best:    1.26/  44.42 GFLOPS | Progress: (40/40) | 73.13 s Done.\n",
            "[Task 15/25]  Current/Best:   18.45/  52.17 GFLOPS | Progress: (40/40) | 55.61 s Done.\n",
            "[Task 16/25]  Current/Best:    8.64/  57.41 GFLOPS | Progress: (40/40) | 35.20 s Done.\n",
            "[Task 17/25]  Current/Best:    5.18/  52.74 GFLOPS | Progress: (40/40) | 38.17 s Done.\n",
            "[Task 18/25]  Current/Best:   13.65/  37.87 GFLOPS | Progress: (40/40) | 45.21 s Done.\n",
            "[Task 19/25]  Current/Best:    2.31/  50.04 GFLOPS | Progress: (40/40) | 51.77 s Done.\n",
            "[Task 21/25]  Current/Best:    8.33/  55.04 GFLOPS | Progress: (40/40) | 55.73 s Done.\n",
            "[Task 22/25]  Current/Best:    8.95/  47.34 GFLOPS | Progress: (40/40) | 33.40 s Done.\n",
            "[Task 23/25]  Current/Best:   22.50/  49.67 GFLOPS | Progress: (40/40) | 49.15 s Done.\n",
            "[Task 24/25]  Current/Best:    0.78/   9.37 GFLOPS | Progress: (30/40) | 111.20 s Done.\n",
            "[Task 25/25]  Current/Best:    1.26/  10.06 GFLOPS | Progress: (40/40) | 127.87 s Done.\n",
            " Done.\n"
          ]
        }
      ]
    },
    {
      "cell_type": "code",
      "source": [
        "!tvmc compile \\\n",
        "--target \"llvm\" \\\n",
        "--tuning-records resnet50-v2-7-autotuner_records.json  \\\n",
        "--output resnet50-v2-7-tvm_autotuned.tar \\\n",
        "resnet50-v2-7.onnx"
      ],
      "metadata": {
        "id": "jv1BD6CmlAmb"
      },
      "execution_count": 13,
      "outputs": []
    },
    {
      "cell_type": "code",
      "source": [
        "!tvmc run \\\n",
        "--inputs imagenet_cat.npz \\\n",
        "--output predictions.npz \\\n",
        "resnet50-v2-7-tvm_autotuned.tar"
      ],
      "metadata": {
        "colab": {
          "base_uri": "https://localhost:8080/"
        },
        "id": "AeWEW-bq0Fff",
        "outputId": "e5fbc40d-c0fa-429d-c41a-e747121ea484"
      },
      "execution_count": 15,
      "outputs": [
        {
          "output_type": "stream",
          "name": "stdout",
          "text": [
            "2024-09-06 05:54:32.654 INFO load_module /tmp/tmpisi5edo7/mod.so\n"
          ]
        }
      ]
    },
    {
      "cell_type": "code",
      "source": [
        "!python postprocess.py"
      ],
      "metadata": {
        "colab": {
          "base_uri": "https://localhost:8080/"
        },
        "id": "kOEkiwrP5zfN",
        "outputId": "1649c9ab-7113-4845-d128-f549ffd3e832"
      },
      "execution_count": 20,
      "outputs": [
        {
          "output_type": "stream",
          "name": "stdout",
          "text": [
            "class='n02123045 tabby, tabby cat' with probability=0.621103\n",
            "class='n02123159 tiger cat' with probability=0.356379\n",
            "class='n02124075 Egyptian cat' with probability=0.019712\n",
            "class='n02129604 tiger, Panthera tigris' with probability=0.001215\n",
            "class='n04040759 radiator' with probability=0.000262\n"
          ]
        }
      ]
    },
    {
      "cell_type": "code",
      "source": [
        "!tvmc run \\\n",
        "--inputs imagenet_cat.npz \\\n",
        "--output predictions.npz  \\\n",
        "--print-time \\\n",
        "--repeat 100 \\\n",
        "resnet50-v2-7-tvm_autotuned.tar"
      ],
      "metadata": {
        "colab": {
          "base_uri": "https://localhost:8080/"
        },
        "id": "HUDoz7Zj_2Fu",
        "outputId": "d468dd0c-611a-4561-eb45-7237fae45c8f"
      },
      "execution_count": 21,
      "outputs": [
        {
          "output_type": "stream",
          "name": "stdout",
          "text": [
            "2024-09-06 06:24:09.272 INFO load_module /tmp/tmpu7sos5he/mod.so\n",
            "Execution time summary:\n",
            " mean (ms)   median (ms)    max (ms)     min (ms)     std (ms)  \n",
            "  603.0624     526.0517     994.8410     505.1502     163.2692                 \n"
          ]
        }
      ]
    },
    {
      "cell_type": "code",
      "source": [
        "!tvmc run \\\n",
        "--inputs imagenet_cat.npz \\\n",
        "--output predictions.npz  \\\n",
        "--print-time \\\n",
        "--repeat 100 \\\n",
        "resnet50-v2-7-tvm.tar"
      ],
      "metadata": {
        "colab": {
          "base_uri": "https://localhost:8080/"
        },
        "id": "MBaWGua7Avo0",
        "outputId": "d1ac102d-d7d9-41d1-e8c0-b196305bc30a"
      },
      "execution_count": 23,
      "outputs": [
        {
          "output_type": "stream",
          "name": "stdout",
          "text": [
            "2024-09-06 06:26:27.139 INFO load_module /tmp/tmpbvpve3d0/mod.so\n",
            "Execution time summary:\n",
            " mean (ms)   median (ms)    max (ms)     min (ms)     std (ms)  \n",
            "  749.7609     615.9257    1263.1543     595.5764     235.3068                 \n"
          ]
        }
      ]
    }
  ]
}