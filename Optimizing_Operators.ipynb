{
  "nbformat": 4,
  "nbformat_minor": 0,
  "metadata": {
    "colab": {
      "provenance": []
    },
    "kernelspec": {
      "name": "python3",
      "display_name": "Python 3"
    },
    "language_info": {
      "name": "python"
    }
  },
  "cells": [
    {
      "cell_type": "markdown",
      "source": [
        "**Optimizing Operators with Schedule Templates and AutoTVM**"
      ],
      "metadata": {
        "id": "zFcFybELxiJa"
      }
    },
    {
      "cell_type": "code",
      "source": [
        "%%shell\n",
        "pip install apache-tvm --pre"
      ],
      "metadata": {
        "colab": {
          "base_uri": "https://localhost:8080/"
        },
        "id": "RWVFMAynPPkD",
        "outputId": "47f11738-3603-4ba3-f1d7-9d506442476e"
      },
      "execution_count": 3,
      "outputs": [
        {
          "output_type": "stream",
          "name": "stdout",
          "text": [
            "Collecting apache-tvm\n",
            "  Downloading apache_tvm-0.14.dev273-cp310-cp310-manylinux_2_17_x86_64.manylinux2014_x86_64.whl.metadata (8.3 kB)\n",
            "Requirement already satisfied: attrs in /usr/local/lib/python3.10/dist-packages (from apache-tvm) (24.2.0)\n",
            "Requirement already satisfied: cloudpickle in /usr/local/lib/python3.10/dist-packages (from apache-tvm) (2.2.1)\n",
            "Requirement already satisfied: decorator in /usr/local/lib/python3.10/dist-packages (from apache-tvm) (4.4.2)\n",
            "Requirement already satisfied: ml-dtypes in /usr/local/lib/python3.10/dist-packages (from apache-tvm) (0.4.0)\n",
            "Requirement already satisfied: numpy in /usr/local/lib/python3.10/dist-packages (from apache-tvm) (1.26.4)\n",
            "Requirement already satisfied: psutil in /usr/local/lib/python3.10/dist-packages (from apache-tvm) (5.9.5)\n",
            "Requirement already satisfied: scipy in /usr/local/lib/python3.10/dist-packages (from apache-tvm) (1.13.1)\n",
            "Requirement already satisfied: tornado in /usr/local/lib/python3.10/dist-packages (from apache-tvm) (6.3.3)\n",
            "Requirement already satisfied: typing-extensions in /usr/local/lib/python3.10/dist-packages (from apache-tvm) (4.12.2)\n",
            "Downloading apache_tvm-0.14.dev273-cp310-cp310-manylinux_2_17_x86_64.manylinux2014_x86_64.whl (69.2 MB)\n",
            "\u001b[2K   \u001b[90m━━━━━━━━━━━━━━━━━━━━━━━━━━━━━━━━━━━━━━━━\u001b[0m \u001b[32m69.2/69.2 MB\u001b[0m \u001b[31m13.5 MB/s\u001b[0m eta \u001b[36m0:00:00\u001b[0m\n",
            "\u001b[?25hInstalling collected packages: apache-tvm\n",
            "Successfully installed apache-tvm-0.14.dev273\n"
          ]
        },
        {
          "output_type": "execute_result",
          "data": {
            "text/plain": []
          },
          "metadata": {},
          "execution_count": 3
        }
      ]
    },
    {
      "cell_type": "code",
      "execution_count": 2,
      "metadata": {
        "colab": {
          "base_uri": "https://localhost:8080/"
        },
        "id": "CK-9xzkkO2QG",
        "outputId": "32d1857a-026b-4079-f6ed-a80131619577"
      },
      "outputs": [
        {
          "output_type": "stream",
          "name": "stdout",
          "text": [
            "Requirement already satisfied: psutil in /usr/local/lib/python3.10/dist-packages (5.9.5)\n",
            "Requirement already satisfied: xgboost in /usr/local/lib/python3.10/dist-packages (2.1.1)\n",
            "Requirement already satisfied: cloudpickle in /usr/local/lib/python3.10/dist-packages (2.2.1)\n",
            "Requirement already satisfied: numpy in /usr/local/lib/python3.10/dist-packages (from xgboost) (1.26.4)\n",
            "Requirement already satisfied: nvidia-nccl-cu12 in /usr/local/lib/python3.10/dist-packages (from xgboost) (2.22.3)\n",
            "Requirement already satisfied: scipy in /usr/local/lib/python3.10/dist-packages (from xgboost) (1.13.1)\n"
          ]
        }
      ],
      "source": [
        "!pip3 install --user psutil xgboost cloudpickle"
      ]
    },
    {
      "cell_type": "code",
      "source": [
        "!pip3 install --user cython\n",
        "!sudo make cython3"
      ],
      "metadata": {
        "colab": {
          "base_uri": "https://localhost:8080/"
        },
        "id": "GIPSLeE5PJlL",
        "outputId": "9e0c7334-2c81-4f41-85f3-f72109ed806a"
      },
      "execution_count": 4,
      "outputs": [
        {
          "output_type": "stream",
          "name": "stdout",
          "text": [
            "Requirement already satisfied: cython in /usr/local/lib/python3.10/dist-packages (3.0.11)\n",
            "make: *** No rule to make target 'cython3'.  Stop.\n"
          ]
        }
      ]
    },
    {
      "cell_type": "code",
      "source": [
        "import logging\n",
        "import sys\n",
        "\n",
        "import numpy as np\n",
        "import tvm\n",
        "from tvm import te\n",
        "import tvm.testing\n",
        "from tvm import autotvm"
      ],
      "metadata": {
        "id": "1buTGGYrPNy-"
      },
      "execution_count": 5,
      "outputs": []
    },
    {
      "cell_type": "markdown",
      "source": [
        "Basic Matrix Multiplication with TE"
      ],
      "metadata": {
        "id": "hTmlr-3vPaQw"
      }
    },
    {
      "cell_type": "code",
      "source": [
        "def matmul_basic(N, L, M, dtype):\n",
        "\n",
        "    A = te.placeholder((N, L), name=\"A\", dtype=dtype)\n",
        "    B = te.placeholder((L, M), name=\"B\", dtype=dtype)\n",
        "\n",
        "    k = te.reduce_axis((0, L), name=\"k\")\n",
        "    C = te.compute((N, M), lambda i, j: te.sum(A[i, k] * B[k, j], axis=k), name=\"C\")\n",
        "    s = te.create_schedule(C.op)\n",
        "\n",
        "    # schedule\n",
        "    y, x = s[C].op.axis\n",
        "    k = s[C].op.reduce_axis[0]\n",
        "\n",
        "    yo, yi = s[C].split(y, 8)\n",
        "    xo, xi = s[C].split(x, 8)\n",
        "\n",
        "    s[C].reorder(yo, xo, k, yi, xi)\n",
        "\n",
        "    return s, [A, B, C]"
      ],
      "metadata": {
        "id": "KKjQVaSHPYAC"
      },
      "execution_count": 6,
      "outputs": []
    },
    {
      "cell_type": "markdown",
      "source": [
        "Matrix Multiplication with AutoTVM:\n",
        "A Basic Matrix Multiplication Template"
      ],
      "metadata": {
        "id": "XVnWRJsVPeTp"
      }
    },
    {
      "cell_type": "code",
      "source": [
        "@autotvm.template(\"tutorial/matmul_v1\")  # a decorator\n",
        "def matmul_v1(N, L, M, dtype):\n",
        "    A = te.placeholder((N, L), name=\"A\", dtype=dtype)\n",
        "    B = te.placeholder((L, M), name=\"B\", dtype=dtype)\n",
        "\n",
        "    k = te.reduce_axis((0, L), name=\"k\")\n",
        "    C = te.compute((N, M), lambda i, j: te.sum(A[i, k] * B[k, j], axis=k), name=\"C\")\n",
        "    s = te.create_schedule(C.op)\n",
        "\n",
        "    y, x = s[C].op.axis\n",
        "    k = s[C].op.reduce_axis[0]\n",
        "\n",
        "    # 2. get the config object\n",
        "    cfg = autotvm.get_config()\n",
        "\n",
        "    # 3. define search space\n",
        "    cfg.define_knob(\"tile_y\", [1, 2, 4, 8, 16])\n",
        "    cfg.define_knob(\"tile_x\", [1, 2, 4, 8, 16])\n",
        "\n",
        "    # 4. schedule according to config\n",
        "    yo, yi = s[C].split(y, cfg[\"tile_y\"].val)\n",
        "    xo, xi = s[C].split(x, cfg[\"tile_x\"].val)\n",
        "\n",
        "    s[C].reorder(yo, xo, k, yi, xi)\n",
        "\n",
        "    return s, [A, B, C]"
      ],
      "metadata": {
        "id": "DWAtIg6-Pdtn"
      },
      "execution_count": 7,
      "outputs": []
    },
    {
      "cell_type": "markdown",
      "source": [
        "A Matrix Multiplication Template with the Advanced Parameter API"
      ],
      "metadata": {
        "id": "F6E6yQuCP5bZ"
      }
    },
    {
      "cell_type": "code",
      "source": [
        "@autotvm.template(\"tutorial/matmul\")\n",
        "def matmul(N, L, M, dtype):\n",
        "    A = te.placeholder((N, L), name=\"A\", dtype=dtype)\n",
        "    B = te.placeholder((L, M), name=\"B\", dtype=dtype)\n",
        "\n",
        "    k = te.reduce_axis((0, L), name=\"k\")\n",
        "    C = te.compute((N, M), lambda i, j: te.sum(A[i, k] * B[k, j], axis=k), name=\"C\")\n",
        "    s = te.create_schedule(C.op)\n",
        "\n",
        "    y, x = s[C].op.axis\n",
        "    k = s[C].op.reduce_axis[0]\n",
        "\n",
        "    cfg = autotvm.get_config()\n",
        "    cfg.define_split(\"tile_y\", y, num_outputs=2)\n",
        "    cfg.define_split(\"tile_x\", x, num_outputs=2)\n",
        "\n",
        "    yo, yi = cfg[\"tile_y\"].apply(s, C, y)\n",
        "    xo, xi = cfg[\"tile_x\"].apply(s, C, x)\n",
        "\n",
        "    s[C].reorder(yo, xo, k, yi, xi)\n",
        "\n",
        "    return s, [A, B, C]"
      ],
      "metadata": {
        "id": "02jICEjjP4ZB"
      },
      "execution_count": 8,
      "outputs": []
    },
    {
      "cell_type": "markdown",
      "source": [
        "Step 2: Use AutoTVM to Optimize the Matrix Multiplication"
      ],
      "metadata": {
        "id": "VcnNjEliQEH0"
      }
    },
    {
      "cell_type": "markdown",
      "source": [
        "Begin tuning"
      ],
      "metadata": {
        "id": "3589T9dIQnM9"
      }
    },
    {
      "cell_type": "code",
      "source": [
        "N, L, M = 512, 512, 512\n",
        "task = autotvm.task.create(\"tutorial/matmul\", args=(N, L, M, \"float32\"), target=\"llvm\")\n",
        "print(task.config_space)"
      ],
      "metadata": {
        "colab": {
          "base_uri": "https://localhost:8080/"
        },
        "id": "TGfBBgz3QE0k",
        "outputId": "71c5542b-0eab-4192-fc81-1aafe81514cb"
      },
      "execution_count": 9,
      "outputs": [
        {
          "output_type": "stream",
          "name": "stdout",
          "text": [
            "ConfigSpace (len=100, range_length=100, space_map=\n",
            "   0 tile_y: Split(policy=factors, product=512, num_outputs=2) len=10\n",
            "   1 tile_x: Split(policy=factors, product=512, num_outputs=2) len=10\n",
            ")\n"
          ]
        }
      ]
    },
    {
      "cell_type": "code",
      "source": [
        "logging.getLogger(\"autotvm\").setLevel(logging.DEBUG)\n",
        "logging.getLogger(\"autotvm\").addHandler(logging.StreamHandler(sys.stdout))"
      ],
      "metadata": {
        "id": "ozVVtL_fxJVu"
      },
      "execution_count": 10,
      "outputs": []
    },
    {
      "cell_type": "code",
      "source": [
        "measure_option = autotvm.measure_option(builder=\"local\", runner=autotvm.LocalRunner(number=5))\n",
        "tuner = autotvm.tuner.RandomTuner(task)\n",
        "tuner.tune(\n",
        "    n_trial=10,\n",
        "    measure_option=measure_option,\n",
        "    callbacks=[autotvm.callback.log_to_file(\"matmul.log\")],\n",
        ")"
      ],
      "metadata": {
        "colab": {
          "base_uri": "https://localhost:8080/"
        },
        "id": "t1ZAlGQFxNU9",
        "outputId": "5060faee-b941-4066-db66-2d36e803d45b"
      },
      "execution_count": 11,
      "outputs": [
        {
          "output_type": "stream",
          "name": "stdout",
          "text": [
            "waiting for device...\n"
          ]
        },
        {
          "output_type": "stream",
          "name": "stderr",
          "text": [
            "DEBUG:autotvm:waiting for device...\n"
          ]
        },
        {
          "output_type": "stream",
          "name": "stdout",
          "text": [
            "device available\n"
          ]
        },
        {
          "output_type": "stream",
          "name": "stderr",
          "text": [
            "DEBUG:autotvm:device available\n"
          ]
        },
        {
          "output_type": "stream",
          "name": "stdout",
          "text": [
            "Get devices for measurement successfully!\n"
          ]
        },
        {
          "output_type": "stream",
          "name": "stderr",
          "text": [
            "INFO:autotvm:Get devices for measurement successfully!\n"
          ]
        },
        {
          "output_type": "stream",
          "name": "stdout",
          "text": [
            "No: 1\tGFLOPS: 5.05/5.05\tresult: MeasureResult(costs=(0.053161619199999996,), error_no=MeasureErrorNo.NO_ERROR, all_cost=1.3552758693695068, timestamp=1726489101.506798)\t[('tile_y', [-1, 4]), ('tile_x', [-1, 512])],None,92\n"
          ]
        },
        {
          "output_type": "stream",
          "name": "stderr",
          "text": [
            "DEBUG:autotvm:No: 1\tGFLOPS: 5.05/5.05\tresult: MeasureResult(costs=(0.053161619199999996,), error_no=MeasureErrorNo.NO_ERROR, all_cost=1.3552758693695068, timestamp=1726489101.506798)\t[('tile_y', [-1, 4]), ('tile_x', [-1, 512])],None,92\n"
          ]
        },
        {
          "output_type": "stream",
          "name": "stdout",
          "text": [
            "No: 2\tGFLOPS: 1.55/5.05\tresult: MeasureResult(costs=(0.17298517600000002,), error_no=MeasureErrorNo.NO_ERROR, all_cost=3.881613254547119, timestamp=1726489105.346971)\t[('tile_y', [-1, 4]), ('tile_x', [-1, 1])],None,2\n"
          ]
        },
        {
          "output_type": "stream",
          "name": "stderr",
          "text": [
            "DEBUG:autotvm:No: 2\tGFLOPS: 1.55/5.05\tresult: MeasureResult(costs=(0.17298517600000002,), error_no=MeasureErrorNo.NO_ERROR, all_cost=3.881613254547119, timestamp=1726489105.346971)\t[('tile_y', [-1, 4]), ('tile_x', [-1, 1])],None,2\n"
          ]
        },
        {
          "output_type": "stream",
          "name": "stdout",
          "text": [
            "No: 3\tGFLOPS: 0.95/5.05\tresult: MeasureResult(costs=(0.2823497202,), error_no=MeasureErrorNo.NO_ERROR, all_cost=5.149085760116577, timestamp=1726489110.6967266)\t[('tile_y', [-1, 1]), ('tile_x', [-1, 1])],None,0\n"
          ]
        },
        {
          "output_type": "stream",
          "name": "stderr",
          "text": [
            "DEBUG:autotvm:No: 3\tGFLOPS: 0.95/5.05\tresult: MeasureResult(costs=(0.2823497202,), error_no=MeasureErrorNo.NO_ERROR, all_cost=5.149085760116577, timestamp=1726489110.6967266)\t[('tile_y', [-1, 1]), ('tile_x', [-1, 1])],None,0\n"
          ]
        },
        {
          "output_type": "stream",
          "name": "stdout",
          "text": [
            "No: 4\tGFLOPS: 1.09/5.05\tresult: MeasureResult(costs=(0.2460393088,), error_no=MeasureErrorNo.NO_ERROR, all_cost=4.932849884033203, timestamp=1726489115.5497136)\t[('tile_y', [-1, 32]), ('tile_x', [-1, 16])],None,45\n"
          ]
        },
        {
          "output_type": "stream",
          "name": "stderr",
          "text": [
            "DEBUG:autotvm:No: 4\tGFLOPS: 1.09/5.05\tresult: MeasureResult(costs=(0.2460393088,), error_no=MeasureErrorNo.NO_ERROR, all_cost=4.932849884033203, timestamp=1726489115.5497136)\t[('tile_y', [-1, 32]), ('tile_x', [-1, 16])],None,45\n"
          ]
        },
        {
          "output_type": "stream",
          "name": "stdout",
          "text": [
            "No: 5\tGFLOPS: 2.60/5.05\tresult: MeasureResult(costs=(0.10342303959999999,), error_no=MeasureErrorNo.NO_ERROR, all_cost=2.96867036819458, timestamp=1726489118.6718123)\t[('tile_y', [-1, 64]), ('tile_x', [-1, 8])],None,36\n"
          ]
        },
        {
          "output_type": "stream",
          "name": "stderr",
          "text": [
            "DEBUG:autotvm:No: 5\tGFLOPS: 2.60/5.05\tresult: MeasureResult(costs=(0.10342303959999999,), error_no=MeasureErrorNo.NO_ERROR, all_cost=2.96867036819458, timestamp=1726489118.6718123)\t[('tile_y', [-1, 64]), ('tile_x', [-1, 8])],None,36\n"
          ]
        },
        {
          "output_type": "stream",
          "name": "stdout",
          "text": [
            "No: 6\tGFLOPS: 8.31/8.31\tresult: MeasureResult(costs=(0.032290437,), error_no=MeasureErrorNo.NO_ERROR, all_cost=0.9415507316589355, timestamp=1726489119.4568455)\t[('tile_y', [-1, 1]), ('tile_x', [-1, 512])],None,90\n"
          ]
        },
        {
          "output_type": "stream",
          "name": "stderr",
          "text": [
            "DEBUG:autotvm:No: 6\tGFLOPS: 8.31/8.31\tresult: MeasureResult(costs=(0.032290437,), error_no=MeasureErrorNo.NO_ERROR, all_cost=0.9415507316589355, timestamp=1726489119.4568455)\t[('tile_y', [-1, 1]), ('tile_x', [-1, 512])],None,90\n"
          ]
        },
        {
          "output_type": "stream",
          "name": "stdout",
          "text": [
            "No: 7\tGFLOPS: 7.23/8.31\tresult: MeasureResult(costs=(0.037104190999999995,), error_no=MeasureErrorNo.NO_ERROR, all_cost=1.14677095413208, timestamp=1726489120.727095)\t[('tile_y', [-1, 16]), ('tile_x', [-1, 64])],None,64\n"
          ]
        },
        {
          "output_type": "stream",
          "name": "stderr",
          "text": [
            "DEBUG:autotvm:No: 7\tGFLOPS: 7.23/8.31\tresult: MeasureResult(costs=(0.037104190999999995,), error_no=MeasureErrorNo.NO_ERROR, all_cost=1.14677095413208, timestamp=1726489120.727095)\t[('tile_y', [-1, 16]), ('tile_x', [-1, 64])],None,64\n"
          ]
        },
        {
          "output_type": "stream",
          "name": "stdout",
          "text": [
            "No: 8\tGFLOPS: 1.10/8.31\tresult: MeasureResult(costs=(0.244889486,), error_no=MeasureErrorNo.NO_ERROR, all_cost=4.438783645629883, timestamp=1726489125.1540842)\t[('tile_y', [-1, 1]), ('tile_x', [-1, 2])],None,10\n"
          ]
        },
        {
          "output_type": "stream",
          "name": "stderr",
          "text": [
            "DEBUG:autotvm:No: 8\tGFLOPS: 1.10/8.31\tresult: MeasureResult(costs=(0.244889486,), error_no=MeasureErrorNo.NO_ERROR, all_cost=4.438783645629883, timestamp=1726489125.1540842)\t[('tile_y', [-1, 1]), ('tile_x', [-1, 2])],None,10\n"
          ]
        },
        {
          "output_type": "stream",
          "name": "stdout",
          "text": [
            "No: 9\tGFLOPS: 4.19/8.31\tresult: MeasureResult(costs=(0.0640084958,), error_no=MeasureErrorNo.NO_ERROR, all_cost=1.5014536380767822, timestamp=1726489127.6846879)\t[('tile_y', [-1, 2]), ('tile_x', [-1, 32])],None,51\n"
          ]
        },
        {
          "output_type": "stream",
          "name": "stderr",
          "text": [
            "DEBUG:autotvm:No: 9\tGFLOPS: 4.19/8.31\tresult: MeasureResult(costs=(0.0640084958,), error_no=MeasureErrorNo.NO_ERROR, all_cost=1.5014536380767822, timestamp=1726489127.6846879)\t[('tile_y', [-1, 2]), ('tile_x', [-1, 32])],None,51\n"
          ]
        },
        {
          "output_type": "stream",
          "name": "stdout",
          "text": [
            "No: 10\tGFLOPS: 5.12/8.31\tresult: MeasureResult(costs=(0.05243227100000001,), error_no=MeasureErrorNo.NO_ERROR, all_cost=2.2266881465911865, timestamp=1726489128.8429985)\t[('tile_y', [-1, 16]), ('tile_x', [-1, 128])],None,74\n"
          ]
        },
        {
          "output_type": "stream",
          "name": "stderr",
          "text": [
            "DEBUG:autotvm:No: 10\tGFLOPS: 5.12/8.31\tresult: MeasureResult(costs=(0.05243227100000001,), error_no=MeasureErrorNo.NO_ERROR, all_cost=2.2266881465911865, timestamp=1726489128.8429985)\t[('tile_y', [-1, 16]), ('tile_x', [-1, 128])],None,74\n"
          ]
        }
      ]
    },
    {
      "cell_type": "code",
      "source": [
        "with autotvm.apply_history_best(\"matmul.log\"):\n",
        "    with tvm.target.Target(\"llvm\"):\n",
        "        s, arg_bufs = matmul(N, L, M, \"float32\")\n",
        "        func = tvm.build(s, arg_bufs)\n",
        "\n",
        "a_np = np.random.uniform(size=(N, L)).astype(np.float32)\n",
        "b_np = np.random.uniform(size=(L, M)).astype(np.float32)\n",
        "c_np = a_np.dot(b_np)\n",
        "\n",
        "c_tvm = tvm.nd.empty(c_np.shape)\n",
        "func(tvm.nd.array(a_np), tvm.nd.array(b_np), c_tvm)\n",
        "\n",
        "tvm.testing.assert_allclose(c_np, c_tvm.numpy(), rtol=1e-4)"
      ],
      "metadata": {
        "colab": {
          "base_uri": "https://localhost:8080/"
        },
        "id": "PnkqIxc-xTrl",
        "outputId": "f1027406-43c8-4b9f-9f05-c843142ec736"
      },
      "execution_count": 12,
      "outputs": [
        {
          "output_type": "stream",
          "name": "stdout",
          "text": [
            "Finish loading 10 records\n"
          ]
        },
        {
          "output_type": "stream",
          "name": "stderr",
          "text": [
            "DEBUG:autotvm:Finish loading 10 records\n"
          ]
        }
      ]
    }
  ]
}