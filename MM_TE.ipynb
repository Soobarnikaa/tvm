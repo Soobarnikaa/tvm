{
  "nbformat": 4,
  "nbformat_minor": 0,
  "metadata": {
    "colab": {
      "provenance": []
    },
    "kernelspec": {
      "name": "python3",
      "display_name": "Python 3"
    },
    "language_info": {
      "name": "python"
    }
  },
  "cells": [
    {
      "cell_type": "code",
      "execution_count": 2,
      "metadata": {
        "colab": {
          "base_uri": "https://localhost:8080/"
        },
        "id": "1CdvTH0GKkzF",
        "outputId": "1e99f762-7f2f-4ea9-c80b-6fddcdf11f7f"
      },
      "outputs": [
        {
          "output_type": "stream",
          "name": "stdout",
          "text": [
            "Requirement already satisfied: apache-tvm in /usr/local/lib/python3.10/dist-packages (0.14.dev273)\n",
            "Requirement already satisfied: attrs in /usr/local/lib/python3.10/dist-packages (from apache-tvm) (24.2.0)\n",
            "Requirement already satisfied: cloudpickle in /usr/local/lib/python3.10/dist-packages (from apache-tvm) (2.2.1)\n",
            "Requirement already satisfied: decorator in /usr/local/lib/python3.10/dist-packages (from apache-tvm) (4.4.2)\n",
            "Requirement already satisfied: ml-dtypes in /usr/local/lib/python3.10/dist-packages (from apache-tvm) (0.4.0)\n",
            "Requirement already satisfied: numpy in /usr/local/lib/python3.10/dist-packages (from apache-tvm) (1.26.4)\n",
            "Requirement already satisfied: psutil in /usr/local/lib/python3.10/dist-packages (from apache-tvm) (5.9.5)\n",
            "Requirement already satisfied: scipy in /usr/local/lib/python3.10/dist-packages (from apache-tvm) (1.13.1)\n",
            "Requirement already satisfied: tornado in /usr/local/lib/python3.10/dist-packages (from apache-tvm) (6.3.3)\n",
            "Requirement already satisfied: typing-extensions in /usr/local/lib/python3.10/dist-packages (from apache-tvm) (4.12.2)\n"
          ]
        },
        {
          "output_type": "execute_result",
          "data": {
            "text/plain": []
          },
          "metadata": {},
          "execution_count": 2
        }
      ],
      "source": [
        "%%shell\n",
        "pip install apache-tvm --pre"
      ]
    },
    {
      "cell_type": "code",
      "source": [
        "import tvm\n",
        "import tvm.testing\n",
        "from tvm import te\n",
        "import numpy"
      ],
      "metadata": {
        "id": "8IrWeOfvLfMq"
      },
      "execution_count": 3,
      "outputs": []
    },
    {
      "cell_type": "code",
      "source": [
        "M = 1024\n",
        "K = 1024\n",
        "N = 1024\n",
        "dtype = \"float32\""
      ],
      "metadata": {
        "id": "H4IY1DTRLJR3"
      },
      "execution_count": 4,
      "outputs": []
    },
    {
      "cell_type": "code",
      "source": [
        "target = tvm.target.Target(target=\"llvm\", host=\"llvm\")\n",
        "dev = tvm.device(target.kind.name, 0)"
      ],
      "metadata": {
        "id": "P4VosCclLUqy"
      },
      "execution_count": 5,
      "outputs": []
    },
    {
      "cell_type": "code",
      "source": [
        "a = tvm.nd.array(numpy.random.rand(M, K).astype(dtype), dev)\n",
        "b = tvm.nd.array(numpy.random.rand(K, N).astype(dtype), dev)"
      ],
      "metadata": {
        "id": "L_6s0n-PLwFC"
      },
      "execution_count": 6,
      "outputs": []
    },
    {
      "cell_type": "code",
      "source": [
        "import timeit\n",
        "np_repeat = 100\n",
        "np_running_time = timeit.timeit(\n",
        "    setup=\"import numpy\\n\"\n",
        "    \"M = \" + str(M) + \"\\n\"\n",
        "    \"K = \" + str(K) + \"\\n\"\n",
        "    \"N = \" + str(N) + \"\\n\"\n",
        "    'dtype = \"float32\"\\n'\n",
        "    \"a = numpy.random.rand(M, K).astype(dtype)\\n\"\n",
        "    \"b = numpy.random.rand(K, N).astype(dtype)\\n\",\n",
        "    stmt=\"answer = numpy.dot(a, b)\",\n",
        "    number=np_repeat,\n",
        ")\n",
        "print(\"Numpy running time: %f\" % (np_running_time / np_repeat))\n",
        "\n",
        "answer = numpy.dot(a.numpy(), b.numpy())"
      ],
      "metadata": {
        "colab": {
          "base_uri": "https://localhost:8080/"
        },
        "id": "VYj13Y0ULzCJ",
        "outputId": "44c35510-63b9-4ecc-a603-f4196c00c936"
      },
      "execution_count": 8,
      "outputs": [
        {
          "output_type": "stream",
          "name": "stdout",
          "text": [
            "Numpy running time: 0.035991\n"
          ]
        }
      ]
    },
    {
      "cell_type": "code",
      "source": [
        "k = te.reduce_axis((0, K), \"k\")\n",
        "A = te.placeholder((M, K), name=\"A\")\n",
        "B = te.placeholder((K, N), name=\"B\")\n",
        "C = te.compute((M, N), lambda x, y: te.sum(A[x, k] * B[k, y], axis=k), name=\"C\")"
      ],
      "metadata": {
        "id": "fRl2sAOYMFcP"
      },
      "execution_count": 9,
      "outputs": []
    },
    {
      "cell_type": "code",
      "source": [
        "s = te.create_schedule(C.op)\n",
        "func = tvm.build(s, [A, B, C], target=target, name=\"mmult\")"
      ],
      "metadata": {
        "id": "ou61cQs8MGf1"
      },
      "execution_count": 10,
      "outputs": []
    },
    {
      "cell_type": "code",
      "source": [
        "c = tvm.nd.array(numpy.zeros((M, N), dtype=dtype), dev)\n",
        "func(a, b, c)\n",
        "tvm.testing.assert_allclose(c.numpy(), answer, rtol=1e-5)"
      ],
      "metadata": {
        "id": "umJGoBDLMI8S"
      },
      "execution_count": 11,
      "outputs": []
    },
    {
      "cell_type": "code",
      "source": [
        "def evaluate_operation(s, vars, target, name, optimization, log):\n",
        "    func = tvm.build(s, [A, B, C], target=target, name=\"mmult\")\n",
        "    assert func\n",
        "\n",
        "    c = tvm.nd.array(numpy.zeros((M, N), dtype=dtype), dev)\n",
        "    func(a, b, c)\n",
        "    tvm.testing.assert_allclose(c.numpy(), answer, rtol=1e-5)\n",
        "\n",
        "    evaluator = func.time_evaluator(func.entry_name, dev, number=10)\n",
        "    mean_time = evaluator(a, b, c).mean\n",
        "    print(\"%s: %f\" % (optimization, mean_time))\n",
        "    log.append((optimization, mean_time))\n",
        "\n",
        "\n",
        "log = []\n",
        "\n",
        "evaluate_operation(s, [A, B, C], target=target, name=\"mmult\", optimization=\"none\", log=log)"
      ],
      "metadata": {
        "colab": {
          "base_uri": "https://localhost:8080/"
        },
        "id": "2XGTgWcxMNg1",
        "outputId": "08ab0eb7-21a4-440e-8e33-f8f5c182ba82"
      },
      "execution_count": 12,
      "outputs": [
        {
          "output_type": "stream",
          "name": "stdout",
          "text": [
            "none: 4.594714\n"
          ]
        }
      ]
    },
    {
      "cell_type": "code",
      "source": [
        "print(tvm.lower(s, [A, B, C], simple_mode=True))"
      ],
      "metadata": {
        "colab": {
          "base_uri": "https://localhost:8080/"
        },
        "id": "hPbI-Wk3MVMR",
        "outputId": "cafac571-1afe-4cc3-f163-761677123155"
      },
      "execution_count": 13,
      "outputs": [
        {
          "output_type": "stream",
          "name": "stdout",
          "text": [
            "# from tvm.script import ir as I\n",
            "# from tvm.script import tir as T\n",
            "\n",
            "@I.ir_module\n",
            "class Module:\n",
            "    @T.prim_func\n",
            "    def main(A: T.Buffer((1024, 1024), \"float32\"), B: T.Buffer((1024, 1024), \"float32\"), C: T.Buffer((1024, 1024), \"float32\")):\n",
            "        T.func_attr({\"from_legacy_te_schedule\": T.bool(True), \"tir.noalias\": T.bool(True)})\n",
            "        for x, y in T.grid(1024, 1024):\n",
            "            C_1 = T.Buffer((1048576,), data=C.data)\n",
            "            C_1[x * 1024 + y] = T.float32(0)\n",
            "            for k in range(1024):\n",
            "                cse_var_2: T.int32 = x * 1024\n",
            "                cse_var_1: T.int32 = cse_var_2 + y\n",
            "                A_1 = T.Buffer((1048576,), data=A.data)\n",
            "                B_1 = T.Buffer((1048576,), data=B.data)\n",
            "                C_1[cse_var_1] = C_1[cse_var_1] + A_1[cse_var_2 + k] * B_1[k * 1024 + y]\n"
          ]
        }
      ]
    },
    {
      "cell_type": "markdown",
      "source": [
        "Optimization 1: Blocking"
      ],
      "metadata": {
        "id": "YBZG-jOyMYMu"
      }
    },
    {
      "cell_type": "code",
      "source": [
        "bn = 32\n",
        "\n",
        "# Blocking by loop tiling\n",
        "xo, yo, xi, yi = s[C].tile(C.op.axis[0], C.op.axis[1], bn, bn)\n",
        "(k,) = s[C].op.reduce_axis\n",
        "ko, ki = s[C].split(k, factor=4)\n",
        "\n",
        "# Hoist reduction domain outside the blocking loop\n",
        "s[C].reorder(xo, yo, ko, ki, xi, yi)\n",
        "\n",
        "evaluate_operation(s, [A, B, C], target=target, name=\"mmult\", optimization=\"blocking\", log=log)"
      ],
      "metadata": {
        "colab": {
          "base_uri": "https://localhost:8080/"
        },
        "id": "-73j_r_3MV1Q",
        "outputId": "60df09ce-b8b5-40bd-99e8-5c0e3f385e1e"
      },
      "execution_count": 14,
      "outputs": [
        {
          "output_type": "stream",
          "name": "stdout",
          "text": [
            "blocking: 0.371077\n"
          ]
        }
      ]
    },
    {
      "cell_type": "code",
      "source": [
        "print(tvm.lower(s, [A, B, C], simple_mode=True))"
      ],
      "metadata": {
        "colab": {
          "base_uri": "https://localhost:8080/"
        },
        "id": "A3VQ7MVIMktX",
        "outputId": "0f9213cb-579a-4d4b-fff0-e1b3ce76b064"
      },
      "execution_count": 15,
      "outputs": [
        {
          "output_type": "stream",
          "name": "stdout",
          "text": [
            "# from tvm.script import ir as I\n",
            "# from tvm.script import tir as T\n",
            "\n",
            "@I.ir_module\n",
            "class Module:\n",
            "    @T.prim_func\n",
            "    def main(A: T.Buffer((1024, 1024), \"float32\"), B: T.Buffer((1024, 1024), \"float32\"), C: T.Buffer((1024, 1024), \"float32\")):\n",
            "        T.func_attr({\"from_legacy_te_schedule\": T.bool(True), \"tir.noalias\": T.bool(True)})\n",
            "        for x_outer, y_outer in T.grid(32, 32):\n",
            "            C_1 = T.Buffer((1048576,), data=C.data)\n",
            "            for x_inner_init, y_inner_init in T.grid(32, 32):\n",
            "                C_1[x_outer * 32768 + x_inner_init * 1024 + y_outer * 32 + y_inner_init] = T.float32(0)\n",
            "            for k_outer, k_inner, x_inner, y_inner in T.grid(256, 4, 32, 32):\n",
            "                cse_var_3: T.int32 = y_outer * 32\n",
            "                cse_var_2: T.int32 = x_outer * 32768 + x_inner * 1024\n",
            "                cse_var_1: T.int32 = cse_var_2 + cse_var_3 + y_inner\n",
            "                A_1 = T.Buffer((1048576,), data=A.data)\n",
            "                B_1 = T.Buffer((1048576,), data=B.data)\n",
            "                C_1[cse_var_1] = C_1[cse_var_1] + A_1[cse_var_2 + k_outer * 4 + k_inner] * B_1[k_outer * 4096 + k_inner * 1024 + cse_var_3 + y_inner]\n"
          ]
        }
      ]
    },
    {
      "cell_type": "markdown",
      "source": [
        "Optimization 2: Vectorization"
      ],
      "metadata": {
        "id": "-p3vSzmCMg0S"
      }
    },
    {
      "cell_type": "code",
      "source": [
        "s[C].vectorize(yi)\n",
        "\n",
        "evaluate_operation(s, [A, B, C], target=target, name=\"mmult\", optimization=\"vectorization\", log=log)\n",
        "\n",
        "# The generalized IR after vectorization\n",
        "print(tvm.lower(s, [A, B, C], simple_mode=True))"
      ],
      "metadata": {
        "colab": {
          "base_uri": "https://localhost:8080/"
        },
        "id": "ShpgknPrMs2-",
        "outputId": "9c7e9efb-745d-40f0-c35a-3371ab239da2"
      },
      "execution_count": 16,
      "outputs": [
        {
          "output_type": "stream",
          "name": "stdout",
          "text": [
            "vectorization: 0.420892\n",
            "# from tvm.script import ir as I\n",
            "# from tvm.script import tir as T\n",
            "\n",
            "@I.ir_module\n",
            "class Module:\n",
            "    @T.prim_func\n",
            "    def main(A: T.Buffer((1024, 1024), \"float32\"), B: T.Buffer((1024, 1024), \"float32\"), C: T.Buffer((1024, 1024), \"float32\")):\n",
            "        T.func_attr({\"from_legacy_te_schedule\": T.bool(True), \"tir.noalias\": T.bool(True)})\n",
            "        for x_outer, y_outer in T.grid(32, 32):\n",
            "            C_1 = T.Buffer((1048576,), data=C.data)\n",
            "            for x_inner_init in range(32):\n",
            "                C_1[x_outer * 32768 + x_inner_init * 1024 + y_outer * 32:x_outer * 32768 + x_inner_init * 1024 + y_outer * 32 + 32] = T.Broadcast(T.float32(0), 32)\n",
            "            for k_outer, k_inner, x_inner in T.grid(256, 4, 32):\n",
            "                cse_var_3: T.int32 = y_outer * 32\n",
            "                cse_var_2: T.int32 = x_outer * 32768 + x_inner * 1024\n",
            "                cse_var_1: T.int32 = cse_var_2 + cse_var_3\n",
            "                A_1 = T.Buffer((1048576,), data=A.data)\n",
            "                B_1 = T.Buffer((1048576,), data=B.data)\n",
            "                C_1[cse_var_1:cse_var_1 + 32] = C_1[cse_var_1:cse_var_1 + 32] + T.Broadcast(A_1[cse_var_2 + k_outer * 4 + k_inner], 32) * B_1[k_outer * 4096 + k_inner * 1024 + cse_var_3:k_outer * 4096 + k_inner * 1024 + cse_var_3 + 32]\n"
          ]
        }
      ]
    },
    {
      "cell_type": "markdown",
      "source": [
        "Optimization 3: Loop Permutation"
      ],
      "metadata": {
        "id": "IZXylfuQMzq0"
      }
    },
    {
      "cell_type": "code",
      "source": [
        "s = te.create_schedule(C.op)\n",
        "xo, yo, xi, yi = s[C].tile(C.op.axis[0], C.op.axis[1], bn, bn)\n",
        "(k,) = s[C].op.reduce_axis\n",
        "ko, ki = s[C].split(k, factor=4)\n",
        "\n",
        "# re-ordering\n",
        "s[C].reorder(xo, yo, ko, xi, ki, yi)\n",
        "s[C].vectorize(yi)\n",
        "\n",
        "evaluate_operation(\n",
        "    s, [A, B, C], target=target, name=\"mmult\", optimization=\"loop permutation\", log=log\n",
        ")\n",
        "\n",
        "# Again, print the new generalized IR\n",
        "print(tvm.lower(s, [A, B, C], simple_mode=True))"
      ],
      "metadata": {
        "colab": {
          "base_uri": "https://localhost:8080/"
        },
        "id": "ka1mL2ssMw24",
        "outputId": "da2184d3-6f53-4c48-9c04-3c8774185233"
      },
      "execution_count": 17,
      "outputs": [
        {
          "output_type": "stream",
          "name": "stdout",
          "text": [
            "loop permutation: 0.207239\n",
            "# from tvm.script import ir as I\n",
            "# from tvm.script import tir as T\n",
            "\n",
            "@I.ir_module\n",
            "class Module:\n",
            "    @T.prim_func\n",
            "    def main(A: T.Buffer((1024, 1024), \"float32\"), B: T.Buffer((1024, 1024), \"float32\"), C: T.Buffer((1024, 1024), \"float32\")):\n",
            "        T.func_attr({\"from_legacy_te_schedule\": T.bool(True), \"tir.noalias\": T.bool(True)})\n",
            "        for x_outer, y_outer in T.grid(32, 32):\n",
            "            C_1 = T.Buffer((1048576,), data=C.data)\n",
            "            for x_inner_init in range(32):\n",
            "                C_1[x_outer * 32768 + x_inner_init * 1024 + y_outer * 32:x_outer * 32768 + x_inner_init * 1024 + y_outer * 32 + 32] = T.Broadcast(T.float32(0), 32)\n",
            "            for k_outer, x_inner, k_inner in T.grid(256, 32, 4):\n",
            "                cse_var_3: T.int32 = y_outer * 32\n",
            "                cse_var_2: T.int32 = x_outer * 32768 + x_inner * 1024\n",
            "                cse_var_1: T.int32 = cse_var_2 + cse_var_3\n",
            "                A_1 = T.Buffer((1048576,), data=A.data)\n",
            "                B_1 = T.Buffer((1048576,), data=B.data)\n",
            "                C_1[cse_var_1:cse_var_1 + 32] = C_1[cse_var_1:cse_var_1 + 32] + T.Broadcast(A_1[cse_var_2 + k_outer * 4 + k_inner], 32) * B_1[k_outer * 4096 + k_inner * 1024 + cse_var_3:k_outer * 4096 + k_inner * 1024 + cse_var_3 + 32]\n"
          ]
        }
      ]
    },
    {
      "cell_type": "markdown",
      "source": [
        "Optimization 4: Array Packing"
      ],
      "metadata": {
        "id": "1ESMuMUqM5DU"
      }
    },
    {
      "cell_type": "code",
      "source": [
        "packedB = te.compute((N / bn, K, bn), lambda x, y, z: B[y, x * bn + z], name=\"packedB\")\n",
        "C = te.compute(\n",
        "    (M, N),\n",
        "    lambda x, y: te.sum(A[x, k] * packedB[y // bn, k, tvm.tir.indexmod(y, bn)], axis=k),\n",
        "    name=\"C\",\n",
        ")\n",
        "\n",
        "s = te.create_schedule(C.op)\n",
        "\n",
        "xo, yo, xi, yi = s[C].tile(C.op.axis[0], C.op.axis[1], bn, bn)\n",
        "(k,) = s[C].op.reduce_axis\n",
        "ko, ki = s[C].split(k, factor=4)\n",
        "\n",
        "s[C].reorder(xo, yo, ko, xi, ki, yi)\n",
        "s[C].vectorize(yi)\n",
        "\n",
        "x, y, z = s[packedB].op.axis\n",
        "s[packedB].vectorize(z)\n",
        "s[packedB].parallel(x)\n",
        "\n",
        "evaluate_operation(s, [A, B, C], target=target, name=\"mmult\", optimization=\"array packing\", log=log)\n",
        "\n",
        "# Here is the generated IR after array packing.\n",
        "print(tvm.lower(s, [A, B, C], simple_mode=True))"
      ],
      "metadata": {
        "colab": {
          "base_uri": "https://localhost:8080/"
        },
        "id": "0OBEK3uoM5wp",
        "outputId": "bdecea33-210c-4982-853d-f20fed1fe5fa"
      },
      "execution_count": 18,
      "outputs": [
        {
          "output_type": "stream",
          "name": "stdout",
          "text": [
            "array packing: 0.213899\n",
            "# from tvm.script import ir as I\n",
            "# from tvm.script import tir as T\n",
            "\n",
            "@I.ir_module\n",
            "class Module:\n",
            "    @T.prim_func\n",
            "    def main(A: T.Buffer((1024, 1024), \"float32\"), B: T.Buffer((1024, 1024), \"float32\"), C: T.Buffer((1024, 1024), \"float32\")):\n",
            "        T.func_attr({\"from_legacy_te_schedule\": T.bool(True), \"tir.noalias\": T.bool(True)})\n",
            "        packedB = T.allocate([32768], \"float32x32\", \"global\")\n",
            "        packedB_1 = T.Buffer((32768,), \"float32x32\", data=packedB)\n",
            "        for x in T.parallel(32):\n",
            "            for y in range(1024):\n",
            "                B_1 = T.Buffer((1048576,), data=B.data)\n",
            "                packedB_1[x * 1024 + y] = B_1[y * 1024 + x * 32:y * 1024 + x * 32 + 32]\n",
            "        for x_outer, y_outer in T.grid(32, 32):\n",
            "            C_1 = T.Buffer((1048576,), data=C.data)\n",
            "            for x_inner_init in range(32):\n",
            "                C_1[x_outer * 32768 + x_inner_init * 1024 + y_outer * 32:x_outer * 32768 + x_inner_init * 1024 + y_outer * 32 + 32] = T.Broadcast(T.float32(0), 32)\n",
            "            for k_outer, x_inner, k_inner in T.grid(256, 32, 4):\n",
            "                cse_var_3: T.int32 = x_outer * 32768 + x_inner * 1024\n",
            "                cse_var_2: T.int32 = k_outer * 4\n",
            "                cse_var_1: T.int32 = cse_var_3 + y_outer * 32\n",
            "                A_1 = T.Buffer((1048576,), data=A.data)\n",
            "                C_1[cse_var_1:cse_var_1 + 32] = C_1[cse_var_1:cse_var_1 + 32] + T.Broadcast(A_1[cse_var_3 + cse_var_2 + k_inner], 32) * packedB_1[y_outer * 1024 + cse_var_2 + k_inner]\n"
          ]
        }
      ]
    },
    {
      "cell_type": "markdown",
      "source": [
        "Optimization 5: Optimizing Block Writing Through Caching"
      ],
      "metadata": {
        "id": "e7ffSL3PNAUj"
      }
    },
    {
      "cell_type": "code",
      "source": [
        "s = te.create_schedule(C.op)\n",
        "\n",
        "# Allocate write cache\n",
        "CC = s.cache_write(C, \"global\")\n",
        "\n",
        "xo, yo, xi, yi = s[C].tile(C.op.axis[0], C.op.axis[1], bn, bn)\n",
        "\n",
        "# Write cache is computed at yo\n",
        "s[CC].compute_at(s[C], yo)\n",
        "\n",
        "# New inner axes\n",
        "xc, yc = s[CC].op.axis\n",
        "\n",
        "(k,) = s[CC].op.reduce_axis\n",
        "ko, ki = s[CC].split(k, factor=4)\n",
        "s[CC].reorder(ko, xc, ki, yc)\n",
        "s[CC].unroll(ki)\n",
        "s[CC].vectorize(yc)\n",
        "\n",
        "x, y, z = s[packedB].op.axis\n",
        "s[packedB].vectorize(z)\n",
        "s[packedB].parallel(x)\n",
        "\n",
        "evaluate_operation(s, [A, B, C], target=target, name=\"mmult\", optimization=\"block caching\", log=log)\n",
        "\n",
        "# Here is the generated IR after write cache blocking.\n",
        "print(tvm.lower(s, [A, B, C], simple_mode=True))"
      ],
      "metadata": {
        "colab": {
          "base_uri": "https://localhost:8080/"
        },
        "id": "NIb46IX7M_ur",
        "outputId": "79bcd1a9-31f3-4c83-9e45-9e79f9ecc750"
      },
      "execution_count": 19,
      "outputs": [
        {
          "output_type": "stream",
          "name": "stdout",
          "text": [
            "block caching: 0.121295\n",
            "# from tvm.script import ir as I\n",
            "# from tvm.script import tir as T\n",
            "\n",
            "@I.ir_module\n",
            "class Module:\n",
            "    @T.prim_func\n",
            "    def main(A: T.Buffer((1024, 1024), \"float32\"), B: T.Buffer((1024, 1024), \"float32\"), C: T.Buffer((1024, 1024), \"float32\")):\n",
            "        T.func_attr({\"from_legacy_te_schedule\": T.bool(True), \"tir.noalias\": T.bool(True)})\n",
            "        packedB = T.allocate([32768], \"float32x32\", \"global\")\n",
            "        C_global = T.allocate([1024], \"float32\", \"global\")\n",
            "        packedB_1 = T.Buffer((32768,), \"float32x32\", data=packedB)\n",
            "        for x in T.parallel(32):\n",
            "            for y in range(1024):\n",
            "                B_1 = T.Buffer((1048576,), data=B.data)\n",
            "                packedB_1[x * 1024 + y] = B_1[y * 1024 + x * 32:y * 1024 + x * 32 + 32]\n",
            "        for x_outer, y_outer in T.grid(32, 32):\n",
            "            C_global_1 = T.Buffer((1024,), data=C_global)\n",
            "            for x_c_init in range(32):\n",
            "                C_global_1[x_c_init * 32:x_c_init * 32 + 32] = T.Broadcast(T.float32(0), 32)\n",
            "            for k_outer, x_c in T.grid(256, 32):\n",
            "                cse_var_4: T.int32 = k_outer * 4\n",
            "                cse_var_3: T.int32 = x_c * 32\n",
            "                cse_var_2: T.int32 = y_outer * 1024 + cse_var_4\n",
            "                cse_var_1: T.int32 = x_outer * 32768 + x_c * 1024 + cse_var_4\n",
            "                A_1 = T.Buffer((1048576,), data=A.data)\n",
            "                C_global_1[cse_var_3:cse_var_3 + 32] = C_global_1[cse_var_3:cse_var_3 + 32] + T.Broadcast(A_1[cse_var_1], 32) * packedB_1[cse_var_2]\n",
            "                C_global_1[cse_var_3:cse_var_3 + 32] = C_global_1[cse_var_3:cse_var_3 + 32] + T.Broadcast(A_1[cse_var_1 + 1], 32) * packedB_1[cse_var_2 + 1]\n",
            "                C_global_1[cse_var_3:cse_var_3 + 32] = C_global_1[cse_var_3:cse_var_3 + 32] + T.Broadcast(A_1[cse_var_1 + 2], 32) * packedB_1[cse_var_2 + 2]\n",
            "                C_global_1[cse_var_3:cse_var_3 + 32] = C_global_1[cse_var_3:cse_var_3 + 32] + T.Broadcast(A_1[cse_var_1 + 3], 32) * packedB_1[cse_var_2 + 3]\n",
            "            for x_inner, y_inner in T.grid(32, 32):\n",
            "                C_1 = T.Buffer((1048576,), data=C.data)\n",
            "                C_1[x_outer * 32768 + x_inner * 1024 + y_outer * 32 + y_inner] = C_global_1[x_inner * 32 + y_inner]\n"
          ]
        }
      ]
    },
    {
      "cell_type": "markdown",
      "source": [
        "Optimization 6: Parallelization"
      ],
      "metadata": {
        "id": "X94LiXsGNNQK"
      }
    },
    {
      "cell_type": "code",
      "source": [
        "# parallel\n",
        "s[C].parallel(xo)\n",
        "\n",
        "x, y, z = s[packedB].op.axis\n",
        "s[packedB].vectorize(z)\n",
        "s[packedB].parallel(x)\n",
        "\n",
        "evaluate_operation(\n",
        "    s, [A, B, C], target=target, name=\"mmult\", optimization=\"parallelization\", log=log\n",
        ")\n",
        "\n",
        "print(tvm.lower(s, [A, B, C], simple_mode=True))"
      ],
      "metadata": {
        "colab": {
          "base_uri": "https://localhost:8080/"
        },
        "id": "MqHn7d8QNN3m",
        "outputId": "eab53904-ec79-4cab-84ac-aa5dc6b82879"
      },
      "execution_count": 20,
      "outputs": [
        {
          "output_type": "stream",
          "name": "stdout",
          "text": [
            "parallelization: 0.181262\n",
            "# from tvm.script import ir as I\n",
            "# from tvm.script import tir as T\n",
            "\n",
            "@I.ir_module\n",
            "class Module:\n",
            "    @T.prim_func\n",
            "    def main(A: T.Buffer((1024, 1024), \"float32\"), B: T.Buffer((1024, 1024), \"float32\"), C: T.Buffer((1024, 1024), \"float32\")):\n",
            "        T.func_attr({\"from_legacy_te_schedule\": T.bool(True), \"tir.noalias\": T.bool(True)})\n",
            "        packedB = T.allocate([32768], \"float32x32\", \"global\")\n",
            "        packedB_1 = T.Buffer((32768,), \"float32x32\", data=packedB)\n",
            "        for x in T.parallel(32):\n",
            "            for y in range(1024):\n",
            "                B_1 = T.Buffer((1048576,), data=B.data)\n",
            "                packedB_1[x * 1024 + y] = B_1[y * 1024 + x * 32:y * 1024 + x * 32 + 32]\n",
            "        for x_outer in T.parallel(32):\n",
            "            C_global = T.allocate([1024], \"float32\", \"global\")\n",
            "            for y_outer in range(32):\n",
            "                C_global_1 = T.Buffer((1024,), data=C_global)\n",
            "                for x_c_init in range(32):\n",
            "                    C_global_1[x_c_init * 32:x_c_init * 32 + 32] = T.Broadcast(T.float32(0), 32)\n",
            "                for k_outer, x_c in T.grid(256, 32):\n",
            "                    cse_var_4: T.int32 = k_outer * 4\n",
            "                    cse_var_3: T.int32 = x_c * 32\n",
            "                    cse_var_2: T.int32 = y_outer * 1024 + cse_var_4\n",
            "                    cse_var_1: T.int32 = x_outer * 32768 + x_c * 1024 + cse_var_4\n",
            "                    A_1 = T.Buffer((1048576,), data=A.data)\n",
            "                    C_global_1[cse_var_3:cse_var_3 + 32] = C_global_1[cse_var_3:cse_var_3 + 32] + T.Broadcast(A_1[cse_var_1], 32) * packedB_1[cse_var_2]\n",
            "                    C_global_1[cse_var_3:cse_var_3 + 32] = C_global_1[cse_var_3:cse_var_3 + 32] + T.Broadcast(A_1[cse_var_1 + 1], 32) * packedB_1[cse_var_2 + 1]\n",
            "                    C_global_1[cse_var_3:cse_var_3 + 32] = C_global_1[cse_var_3:cse_var_3 + 32] + T.Broadcast(A_1[cse_var_1 + 2], 32) * packedB_1[cse_var_2 + 2]\n",
            "                    C_global_1[cse_var_3:cse_var_3 + 32] = C_global_1[cse_var_3:cse_var_3 + 32] + T.Broadcast(A_1[cse_var_1 + 3], 32) * packedB_1[cse_var_2 + 3]\n",
            "                for x_inner, y_inner in T.grid(32, 32):\n",
            "                    C_1 = T.Buffer((1048576,), data=C.data)\n",
            "                    C_1[x_outer * 32768 + x_inner * 1024 + y_outer * 32 + y_inner] = C_global_1[x_inner * 32 + y_inner]\n"
          ]
        }
      ]
    },
    {
      "cell_type": "markdown",
      "source": [
        "Summary of Matrix Multiplication Example"
      ],
      "metadata": {
        "id": "kzhOwnvQNUvB"
      }
    },
    {
      "cell_type": "code",
      "source": [
        "baseline = log[0][1]\n",
        "print(\"%s\\t%s\\t%s\" % (\"Operator\".rjust(20), \"Timing\".rjust(20), \"Performance\".rjust(20)))\n",
        "for result in log:\n",
        "    print(\n",
        "        \"%s\\t%s\\t%s\"\n",
        "        % (result[0].rjust(20), str(result[1]).rjust(20), str(result[1] / baseline).rjust(20))\n",
        "    )"
      ],
      "metadata": {
        "colab": {
          "base_uri": "https://localhost:8080/"
        },
        "id": "_gS4CTJ4NVRO",
        "outputId": "0e07069d-a65c-44e8-acca-3ab34e21f0fa"
      },
      "execution_count": 21,
      "outputs": [
        {
          "output_type": "stream",
          "name": "stdout",
          "text": [
            "            Operator\t              Timing\t         Performance\n",
            "                none\t        4.5947139256\t                 1.0\n",
            "            blocking\t        0.3710767914\t 0.08076167470024655\n",
            "       vectorization\t        0.4208924604\t  0.0916036269537799\n",
            "    loop permutation\t        0.2072393987\t 0.04510387415968181\n",
            "       array packing\t 0.21389914929999998\t0.046553311645418274\n",
            "       block caching\t        0.1212945174\t0.026398709335132498\n",
            "     parallelization\t 0.18126207249999998\t0.039450132355373986\n"
          ]
        }
      ]
    }
  ]
}