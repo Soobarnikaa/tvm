{
  "nbformat": 4,
  "nbformat_minor": 0,
  "metadata": {
    "colab": {
      "provenance": []
    },
    "kernelspec": {
      "name": "python3",
      "display_name": "Python 3"
    },
    "language_info": {
      "name": "python"
    }
  },
  "cells": [
    {
      "cell_type": "code",
      "source": [
        "!pip3 install onnx onnxoptimizer"
      ],
      "metadata": {
        "colab": {
          "base_uri": "https://localhost:8080/"
        },
        "id": "Aw6IYIlwurxM",
        "outputId": "415e972a-9538-4695-97f2-1c8ae6951c6e"
      },
      "execution_count": 1,
      "outputs": [
        {
          "output_type": "stream",
          "name": "stdout",
          "text": [
            "Requirement already satisfied: onnx in /usr/local/lib/python3.10/dist-packages (1.16.2)\n",
            "Requirement already satisfied: onnxoptimizer in /usr/local/lib/python3.10/dist-packages (0.3.13)\n",
            "Requirement already satisfied: numpy>=1.20 in /usr/local/lib/python3.10/dist-packages (from onnx) (1.26.4)\n",
            "Requirement already satisfied: protobuf>=3.20.2 in /usr/local/lib/python3.10/dist-packages (from onnx) (3.20.3)\n"
          ]
        }
      ]
    },
    {
      "cell_type": "code",
      "source": [
        "%%shell\n",
        "pip install apache-tvm --pre"
      ],
      "metadata": {
        "colab": {
          "base_uri": "https://localhost:8080/"
        },
        "id": "a-hX0osNuwSO",
        "outputId": "31fae126-4a04-4c19-8643-702f56c90f31"
      },
      "execution_count": 2,
      "outputs": [
        {
          "output_type": "stream",
          "name": "stdout",
          "text": [
            "Requirement already satisfied: apache-tvm in /usr/local/lib/python3.10/dist-packages (0.14.dev273)\n",
            "Requirement already satisfied: attrs in /usr/local/lib/python3.10/dist-packages (from apache-tvm) (24.2.0)\n",
            "Requirement already satisfied: cloudpickle in /usr/local/lib/python3.10/dist-packages (from apache-tvm) (2.2.1)\n",
            "Requirement already satisfied: decorator in /usr/local/lib/python3.10/dist-packages (from apache-tvm) (4.4.2)\n",
            "Requirement already satisfied: ml-dtypes in /usr/local/lib/python3.10/dist-packages (from apache-tvm) (0.4.0)\n",
            "Requirement already satisfied: numpy in /usr/local/lib/python3.10/dist-packages (from apache-tvm) (1.26.4)\n",
            "Requirement already satisfied: psutil in /usr/local/lib/python3.10/dist-packages (from apache-tvm) (5.9.5)\n",
            "Requirement already satisfied: scipy in /usr/local/lib/python3.10/dist-packages (from apache-tvm) (1.13.1)\n",
            "Requirement already satisfied: tornado in /usr/local/lib/python3.10/dist-packages (from apache-tvm) (6.3.3)\n",
            "Requirement already satisfied: typing-extensions in /usr/local/lib/python3.10/dist-packages (from apache-tvm) (4.12.2)\n"
          ]
        },
        {
          "output_type": "execute_result",
          "data": {
            "text/plain": []
          },
          "metadata": {},
          "execution_count": 2
        }
      ]
    },
    {
      "cell_type": "code",
      "source": [
        "import onnx\n",
        "from tvm.contrib.download import download_testdata\n",
        "from PIL import Image\n",
        "import numpy as np\n",
        "import tvm.relay as relay\n",
        "import tvm\n",
        "from tvm.contrib import graph_executor"
      ],
      "metadata": {
        "id": "MP_UgQVUu17B"
      },
      "execution_count": 3,
      "outputs": []
    },
    {
      "cell_type": "code",
      "source": [
        "model_url = (\n",
        "    \"https://github.com/onnx/models/raw/bd206494e8b6a27b25e5cf7199dbcdbfe9d05d1c/\"\n",
        "    \"vision/classification/resnet/model/\"\n",
        "    \"resnet50-v2-7.onnx\"\n",
        ")\n",
        "\n",
        "model_path = download_testdata(model_url, \"resnet50-v2-7.onnx\", module=\"onnx\")\n",
        "onnx_model = onnx.load(model_path)\n",
        "\n",
        "# Seed numpy's RNG to get consistent results\n",
        "np.random.seed(0)"
      ],
      "metadata": {
        "id": "ykxLlYDmvC-v"
      },
      "execution_count": 4,
      "outputs": []
    },
    {
      "cell_type": "code",
      "source": [
        "img_url = \"https://s3.amazonaws.com/model-server/inputs/kitten.jpg\"\n",
        "img_path = download_testdata(img_url, \"imagenet_cat.png\", module=\"data\")\n",
        "\n",
        "# Resize it to 224x224\n",
        "resized_image = Image.open(img_path).resize((224, 224))\n",
        "img_data = np.asarray(resized_image).astype(\"float32\")\n",
        "\n",
        "# Our input image is in HWC layout while ONNX expects CHW input, so convert the array\n",
        "img_data = np.transpose(img_data, (2, 0, 1))\n",
        "\n",
        "# Normalize according to the ImageNet input specification\n",
        "imagenet_mean = np.array([0.485, 0.456, 0.406]).reshape((3, 1, 1))\n",
        "imagenet_stddev = np.array([0.229, 0.224, 0.225]).reshape((3, 1, 1))\n",
        "norm_img_data = (img_data / 255 - imagenet_mean) / imagenet_stddev\n",
        "\n",
        "# Add the batch dimension, as we are expecting 4-dimensional input: NCHW.\n",
        "img_data = np.expand_dims(norm_img_data, axis=0)"
      ],
      "metadata": {
        "id": "CRwqsxwsvTV6"
      },
      "execution_count": 5,
      "outputs": []
    },
    {
      "cell_type": "code",
      "source": [
        "target = \"llvm\""
      ],
      "metadata": {
        "id": "fkDaM-49vZg2"
      },
      "execution_count": 6,
      "outputs": []
    },
    {
      "cell_type": "code",
      "source": [
        "# The input name may vary across model types. You can use a tool\n",
        "# like Netron to check input names\n",
        "input_name = \"data\"\n",
        "shape_dict = {input_name: img_data.shape}\n",
        "\n",
        "mod, params = relay.frontend.from_onnx(onnx_model, shape_dict)\n",
        "\n",
        "with tvm.transform.PassContext(opt_level=3):\n",
        "    lib = relay.build(mod, target=target, params=params)\n",
        "\n",
        "dev = tvm.device(str(target), 0)\n",
        "module = graph_executor.GraphModule(lib[\"default\"](dev))"
      ],
      "metadata": {
        "colab": {
          "base_uri": "https://localhost:8080/"
        },
        "id": "NchAVC4mvc5d",
        "outputId": "c5ca3983-fd72-44e4-9b22-1f47b6a72476"
      },
      "execution_count": 7,
      "outputs": [
        {
          "output_type": "stream",
          "name": "stderr",
          "text": [
            "WARNING:autotvm:One or more operators have not been tuned. Please tune your model for better performance. Use DEBUG logging level to see more details.\n"
          ]
        }
      ]
    },
    {
      "cell_type": "code",
      "source": [
        "dtype = \"float32\"\n",
        "module.set_input(input_name, img_data)\n",
        "module.run()\n",
        "output_shape = (1, 1000)\n",
        "tvm_output = module.get_output(0, tvm.nd.empty(output_shape)).numpy()"
      ],
      "metadata": {
        "id": "F-j7iOYuvqL6"
      },
      "execution_count": 8,
      "outputs": []
    },
    {
      "cell_type": "code",
      "source": [
        "import timeit\n",
        "\n",
        "timing_number = 10\n",
        "timing_repeat = 10\n",
        "unoptimized = (\n",
        "    np.array(timeit.Timer(lambda: module.run()).repeat(repeat=timing_repeat, number=timing_number))\n",
        "    * 1000\n",
        "    / timing_number\n",
        ")\n",
        "unoptimized = {\n",
        "    \"mean\": np.mean(unoptimized),\n",
        "    \"median\": np.median(unoptimized),\n",
        "    \"std\": np.std(unoptimized),\n",
        "}\n",
        "\n",
        "print(unoptimized)"
      ],
      "metadata": {
        "id": "7YYVNaDevxyF",
        "colab": {
          "base_uri": "https://localhost:8080/"
        },
        "outputId": "0449f584-6f55-49a4-91f0-3cf011498d71"
      },
      "execution_count": 9,
      "outputs": [
        {
          "output_type": "stream",
          "name": "stdout",
          "text": [
            "{'mean': 691.1211361700043, 'median': 751.4028710500156, 'std': 82.67789964024246}\n"
          ]
        }
      ]
    },
    {
      "cell_type": "code",
      "source": [
        "from scipy.special import softmax\n",
        "\n",
        "# Download a list of labels\n",
        "labels_url = \"https://s3.amazonaws.com/onnx-model-zoo/synset.txt\"\n",
        "labels_path = download_testdata(labels_url, \"synset.txt\", module=\"data\")\n",
        "\n",
        "with open(labels_path, \"r\") as f:\n",
        "    labels = [l.rstrip() for l in f]\n",
        "\n",
        "# Open the output and read the output tensor\n",
        "scores = softmax(tvm_output)\n",
        "scores = np.squeeze(scores)\n",
        "ranks = np.argsort(scores)[::-1]\n",
        "for rank in ranks[0:5]:\n",
        "    print(\"class='%s' with probability=%f\" % (labels[rank], scores[rank]))"
      ],
      "metadata": {
        "id": "Y7uf06Oyv4_I",
        "colab": {
          "base_uri": "https://localhost:8080/"
        },
        "outputId": "465df318-2576-4443-8941-4ecc5b5d0951"
      },
      "execution_count": 10,
      "outputs": [
        {
          "output_type": "stream",
          "name": "stdout",
          "text": [
            "class='n02123045 tabby, tabby cat' with probability=0.621103\n",
            "class='n02123159 tiger cat' with probability=0.356379\n",
            "class='n02124075 Egyptian cat' with probability=0.019712\n",
            "class='n02129604 tiger, Panthera tigris' with probability=0.001215\n",
            "class='n04040759 radiator' with probability=0.000262\n"
          ]
        }
      ]
    },
    {
      "cell_type": "code",
      "source": [
        "import tvm.auto_scheduler as auto_scheduler\n",
        "from tvm.autotvm.tuner import XGBTuner\n",
        "from tvm import autotvm"
      ],
      "metadata": {
        "id": "KREvgTwJv8EN"
      },
      "execution_count": 11,
      "outputs": []
    },
    {
      "cell_type": "code",
      "source": [
        "number = 10\n",
        "repeat = 1\n",
        "min_repeat_ms = 0  # since we're tuning on a CPU, can be set to 0\n",
        "timeout = 10  # in seconds\n",
        "\n",
        "# create a TVM runner\n",
        "runner = autotvm.LocalRunner(\n",
        "    number=number,\n",
        "    repeat=repeat,\n",
        "    timeout=timeout,\n",
        "    min_repeat_ms=min_repeat_ms,\n",
        "    enable_cpu_cache_flush=True,\n",
        ")"
      ],
      "metadata": {
        "id": "x6ZexEuNwCPD"
      },
      "execution_count": 12,
      "outputs": []
    },
    {
      "cell_type": "code",
      "source": [
        "tuning_option = {\n",
        "    \"tuner\": \"xgb\",\n",
        "    \"trials\": 20,\n",
        "    \"early_stopping\": 100,\n",
        "    \"measure_option\": autotvm.measure_option(\n",
        "        builder=autotvm.LocalBuilder(build_func=\"default\"), runner=runner\n",
        "    ),\n",
        "    \"tuning_records\": \"resnet-50-v2-autotuning.json\",\n",
        "}"
      ],
      "metadata": {
        "id": "-cXmxWKEwGYh"
      },
      "execution_count": 13,
      "outputs": []
    },
    {
      "cell_type": "code",
      "source": [
        "# begin by extracting the tasks from the onnx model\n",
        "tasks = autotvm.task.extract_from_program(mod[\"main\"], target=target, params=params)\n",
        "\n",
        "# Tune the extracted tasks sequentially.\n",
        "for i, task in enumerate(tasks):\n",
        "    prefix = \"[Task %2d/%2d] \" % (i + 1, len(tasks))\n",
        "\n",
        "    # choose tuner\n",
        "    tuner = \"xgb\"\n",
        "\n",
        "    # create tuner\n",
        "    if tuner == \"xgb\":\n",
        "        tuner_obj = XGBTuner(task, loss_type=\"reg\")\n",
        "    elif tuner == \"xgb_knob\":\n",
        "        tuner_obj = XGBTuner(task, loss_type=\"reg\", feature_type=\"knob\")\n",
        "    elif tuner == \"xgb_itervar\":\n",
        "        tuner_obj = XGBTuner(task, loss_type=\"reg\", feature_type=\"itervar\")\n",
        "    elif tuner == \"xgb_curve\":\n",
        "        tuner_obj = XGBTuner(task, loss_type=\"reg\", feature_type=\"curve\")\n",
        "    elif tuner == \"xgb_rank\":\n",
        "        tuner_obj = XGBTuner(task, loss_type=\"rank\")\n",
        "    elif tuner == \"xgb_rank_knob\":\n",
        "        tuner_obj = XGBTuner(task, loss_type=\"rank\", feature_type=\"knob\")\n",
        "    elif tuner == \"xgb_rank_itervar\":\n",
        "        tuner_obj = XGBTuner(task, loss_type=\"rank\", feature_type=\"itervar\")\n",
        "    elif tuner == \"xgb_rank_curve\":\n",
        "        tuner_obj = XGBTuner(task, loss_type=\"rank\", feature_type=\"curve\")\n",
        "    elif tuner == \"xgb_rank_binary\":\n",
        "        tuner_obj = XGBTuner(task, loss_type=\"rank-binary\")\n",
        "    elif tuner == \"xgb_rank_binary_knob\":\n",
        "        tuner_obj = XGBTuner(task, loss_type=\"rank-binary\", feature_type=\"knob\")\n",
        "    elif tuner == \"xgb_rank_binary_itervar\":\n",
        "        tuner_obj = XGBTuner(task, loss_type=\"rank-binary\", feature_type=\"itervar\")\n",
        "    elif tuner == \"xgb_rank_binary_curve\":\n",
        "        tuner_obj = XGBTuner(task, loss_type=\"rank-binary\", feature_type=\"curve\")\n",
        "    elif tuner == \"ga\":\n",
        "        tuner_obj = GATuner(task, pop_size=50)\n",
        "    elif tuner == \"random\":\n",
        "        tuner_obj = RandomTuner(task)\n",
        "    elif tuner == \"gridsearch\":\n",
        "        tuner_obj = GridSearchTuner(task)\n",
        "    else:\n",
        "        raise ValueError(\"Invalid tuner: \" + tuner)\n",
        "\n",
        "    tuner_obj.tune(\n",
        "        n_trial=min(tuning_option[\"trials\"], len(task.config_space)),\n",
        "        early_stopping=tuning_option[\"early_stopping\"],\n",
        "        measure_option=tuning_option[\"measure_option\"],\n",
        "        callbacks=[\n",
        "            autotvm.callback.progress_bar(tuning_option[\"trials\"], prefix=prefix),\n",
        "            autotvm.callback.log_to_file(tuning_option[\"tuning_records\"]),\n",
        "        ],\n",
        "    )"
      ],
      "metadata": {
        "id": "sMDs2t_LwI3v",
        "colab": {
          "base_uri": "https://localhost:8080/"
        },
        "outputId": "141b9a61-fa7b-420d-9211-f2c2aeae0506"
      },
      "execution_count": 14,
      "outputs": [
        {
          "output_type": "stream",
          "name": "stdout",
          "text": [
            "[Task  1/25]  Current/Best:    8.86/  20.18 GFLOPS | Progress: (20/20) | 40.30 s Done.\n",
            "[Task  2/25]  Current/Best:    8.32/  19.28 GFLOPS | Progress: (20/20) | 19.85 s Done.\n",
            "[Task  3/25]  Current/Best:    8.67/  18.78 GFLOPS | Progress: (20/20) | 30.24 s Done.\n",
            "[Task  5/25]  Current/Best:    1.44/  16.65 GFLOPS | Progress: (20/20) | 27.70 s Done.\n",
            "[Task  6/25]  Current/Best:    7.00/  18.28 GFLOPS | Progress: (20/20) | 31.96 s Done.\n",
            "[Task  7/25]  Current/Best:    6.77/  14.50 GFLOPS | Progress: (20/20) | 27.95 s Done.\n",
            "[Task  8/25]  Current/Best:   12.90/  18.84 GFLOPS | Progress: (20/20) | 30.60 s Done.\n",
            "[Task  9/25]  Current/Best:   13.50/  18.15 GFLOPS | Progress: (20/20) | 29.49 s Done.\n",
            "[Task 10/25]  Current/Best:    6.81/  15.02 GFLOPS | Progress: (20/20) | 29.99 s Done.\n",
            "[Task 11/25]  Current/Best:   11.48/  20.24 GFLOPS | Progress: (20/20) | 29.36 s Done.\n",
            "[Task 12/25]  Current/Best:    9.05/  12.11 GFLOPS | Progress: (6/20) | 18.08 s Done.\n",
            "[Task 12/25]  Current/Best:    5.58/  15.04 GFLOPS | Progress: (20/20) | 41.11 s Done.\n",
            "[Task 13/25]  Current/Best:   17.19/  17.19 GFLOPS | Progress: (20/20) | 38.02 s Done.\n",
            "[Task 16/25]  Current/Best:    4.75/  15.84 GFLOPS | Progress: (20/20) | 22.46 s Done.\n",
            "[Task 17/25]  Current/Best:    4.96/  19.44 GFLOPS | Progress: (20/20) | 32.16 s Done.\n",
            "[Task 19/25]  Current/Best:    7.46/   8.40 GFLOPS | Progress: (4/20) | 14.06 s Done.\n",
            " Done.\n",
            " Done.\n",
            "[Task 19/25]  Current/Best:    5.23/  17.21 GFLOPS | Progress: (20/20) | 38.38 s Done.\n",
            "[Task 22/25]  Current/Best:    9.03/  17.40 GFLOPS | Progress: (20/20) | 22.35 s Done.\n",
            "[Task 23/25]  Current/Best:   10.77/  17.78 GFLOPS | Progress: (20/20) | 30.83 s Done.\n",
            "[Task 24/25]  Current/Best:    0.00/   0.00 GFLOPS | Progress: (2/20) | 14.11 s Done.\n",
            " Done.\n",
            "[Task 25/25]  Current/Best:    7.05/   7.05 GFLOPS | Progress: (20/20) | 53.76 s"
          ]
        }
      ]
    },
    {
      "cell_type": "code",
      "source": [
        "with autotvm.apply_history_best(tuning_option[\"tuning_records\"]):\n",
        "    with tvm.transform.PassContext(opt_level=3, config={}):\n",
        "        lib = relay.build(mod, target=target, params=params)\n",
        "\n",
        "dev = tvm.device(str(target), 0)\n",
        "module = graph_executor.GraphModule(lib[\"default\"](dev))"
      ],
      "metadata": {
        "id": "PIIgmB3vw1Zy",
        "colab": {
          "base_uri": "https://localhost:8080/"
        },
        "outputId": "9f930e60-ec3d-44ef-dc1d-45989f5eb0c2"
      },
      "execution_count": 15,
      "outputs": [
        {
          "output_type": "stream",
          "name": "stdout",
          "text": [
            " Done.\n",
            " Done.\n"
          ]
        }
      ]
    },
    {
      "cell_type": "code",
      "source": [
        "dtype = \"float32\"\n",
        "module.set_input(input_name, img_data)\n",
        "module.run()\n",
        "output_shape = (1, 1000)\n",
        "tvm_output = module.get_output(0, tvm.nd.empty(output_shape)).numpy()\n",
        "\n",
        "scores = softmax(tvm_output)\n",
        "scores = np.squeeze(scores)\n",
        "ranks = np.argsort(scores)[::-1]\n",
        "for rank in ranks[0:5]:\n",
        "    print(\"class='%s' with probability=%f\" % (labels[rank], scores[rank]))"
      ],
      "metadata": {
        "colab": {
          "base_uri": "https://localhost:8080/"
        },
        "id": "kPdf2CH6xGbi",
        "outputId": "5077d011-9f76-4a63-bcd1-e2587887360e"
      },
      "execution_count": 16,
      "outputs": [
        {
          "output_type": "stream",
          "name": "stdout",
          "text": [
            "class='n02123045 tabby, tabby cat' with probability=0.621103\n",
            "class='n02123159 tiger cat' with probability=0.356379\n",
            "class='n02124075 Egyptian cat' with probability=0.019712\n",
            "class='n02129604 tiger, Panthera tigris' with probability=0.001215\n",
            "class='n04040759 radiator' with probability=0.000262\n"
          ]
        }
      ]
    },
    {
      "cell_type": "code",
      "source": [
        "import timeit\n",
        "\n",
        "timing_number = 10\n",
        "timing_repeat = 10\n",
        "optimized = (\n",
        "    np.array(timeit.Timer(lambda: module.run()).repeat(repeat=timing_repeat, number=timing_number))\n",
        "    * 1000\n",
        "    / timing_number\n",
        ")\n",
        "optimized = {\"mean\": np.mean(optimized), \"median\": np.median(optimized), \"std\": np.std(optimized)}\n",
        "\n",
        "\n",
        "print(\"optimized: %s\" % (optimized))\n",
        "print(\"unoptimized: %s\" % (unoptimized))"
      ],
      "metadata": {
        "colab": {
          "base_uri": "https://localhost:8080/"
        },
        "id": "DxuR1epdxI9F",
        "outputId": "04904602-0958-485c-92e9-c96e2635bc70"
      },
      "execution_count": 17,
      "outputs": [
        {
          "output_type": "stream",
          "name": "stdout",
          "text": [
            "optimized: {'mean': 563.0903652799952, 'median': 540.1399724499697, 'std': 86.31151251842172}\n",
            "unoptimized: {'mean': 691.1211361700043, 'median': 751.4028710500156, 'std': 82.67789964024246}\n"
          ]
        }
      ]
    }
  ]
}